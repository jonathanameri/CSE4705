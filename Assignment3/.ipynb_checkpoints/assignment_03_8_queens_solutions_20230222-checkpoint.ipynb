{
 "cells": [
  {
   "cell_type": "markdown",
   "metadata": {},
   "source": [
    "# CSE 4705: Assignment 03 - Local Search - 8-queens"
   ]
  },
  {
   "cell_type": "markdown",
   "metadata": {},
   "source": [
    "## Goals\n",
    "In this lab you will:\n",
    "- Implement various local search algorithms that we've discussed in class.\n",
    "- Make comparisons of the computational overhead of these algorithms.\n"
   ]
  },
  {
   "cell_type": "markdown",
   "metadata": {},
   "source": [
    "##  Problem Statement\n",
    "\n",
    "In this assignment you will implement a number of local search algorithms for solving the n-queens problem.  As we discussed in class, this problem consists of determining how to arrange queen pieces on an n x n chess board so that no two queens are attacking each other.  The diagram below shows one of a number of successful arrangmeents of queens on an 8 x 8 chess board:\n",
    "\n",
    "<img src=\"images/eight_queens.png\" width=\"400\" height=\"400\">\n",
    "\n",
    "Your algorithms will start with a random arrangement of queens on the board, and then will utilize the algorithms to approach, or hopefully, successfully find, a goal state in which no two queens are attacking each other.\n",
    "\n",
    "The algorithms you will implement include the following:\n",
    "\n",
    "1.  Hill Climbing (Steepest Ascent)\n",
    "2.  Stochastic Hill Climbing\n",
    "3.  First Choice Hill Climbing\n",
    "4.  Random Restart Hill Climbing\n",
    "5.  Local Beam Search\n",
    "6.  Genetic Algorithm\n",
    "\n",
    "As discussed in class, a commonly used metric for the objective function for the 8-queens problem is the number of pairs of attacking queens.  One of the slides from Lecture 04 - Local Search shows the calculation for the values for this metric at each square on the board, as shown below:\n",
    "\n",
    "<img src=\"images/attacking_pairs.png\" width=\"700\" height=\"700\">\n",
    "\n",
    "You will use this metric for guiding the search in your algorithm implementations.\n",
    "\n"
   ]
  },
  {
   "cell_type": "markdown",
   "metadata": {},
   "source": [
    "### Problem 1 - Steepest Ascent Hill Climbing\n",
    "\n",
    "Implement the steepest ascent hill climbing algorithm in the cell below."
   ]
  },
  {
   "cell_type": "code",
   "execution_count": 1,
   "metadata": {},
   "outputs": [],
   "source": [
    "import pandas as pd\n",
    "import numpy as np\n",
    "from random import choices"
   ]
  },
  {
   "cell_type": "code",
   "execution_count": 2,
   "metadata": {},
   "outputs": [],
   "source": [
    "def attack_pairs(queens):\n",
    "    attack_pairs = 0\n",
    "\n",
    "    for i in range(len(queens)):\n",
    "        for j in range(i+1, len(queens)):\n",
    "            attack_squares = [queens[i], queens[i] + (j-i), queens[i] - (j-i)]\n",
    "            if queens[j] in attack_squares:\n",
    "                attack_pairs += 1\n",
    "    return attack_pairs"
   ]
  },
  {
   "cell_type": "code",
   "execution_count": 3,
   "metadata": {},
   "outputs": [],
   "source": [
    "def attack_pairs_board(queens):\n",
    "    \n",
    "    n = len(queens)\n",
    "\n",
    "    queens_work = queens.copy()\n",
    "\n",
    "    counts = np.zeros((n, n))\n",
    "\n",
    "    for i in range(n):\n",
    "        for j in range(n):\n",
    "            queens_work[i] = j\n",
    "            counts[j, i] = attack_pairs(queens_work)\n",
    "            queens_work = queens.copy()\n",
    "    return counts    "
   ]
  },
  {
   "cell_type": "code",
   "execution_count": 4,
   "metadata": {},
   "outputs": [],
   "source": [
    "def hill_climb_steepest_ascent(n):\n",
    "    \n",
    "    # start with a random assignment of queens on the board.\n",
    "    queens = np.random.randint(n, size=n)\n",
    "    \n",
    "    # iterate until either a goal state reached (no attacking queens) \n",
    "    # or a local optimum.\n",
    "    \n",
    "    while True:\n",
    "        # get the number of attacking pairs for the current arrangement of queens.\n",
    "        current_attack_pairs = attack_pairs(queens)\n",
    "\n",
    "        # calculate the number of attacking pairs for all the neighbors on the board.\n",
    "        attack_pairs_neighbors = attack_pairs_board(queens)\n",
    "\n",
    "        # get the min number of attacking pairs among neighbors\n",
    "        attack_pairs_neighbors_min = attack_pairs_neighbors.min()\n",
    "\n",
    "        if current_attack_pairs == 0:            # we have reached a goal state - return it\n",
    "            return 0, queens\n",
    "        elif attack_pairs_neighbors_min < current_attack_pairs:    # no goal state, so move to a state with \n",
    "                                                                   # min attacking pairs (i.e., steepest ascent)\n",
    "            min_index = attack_pairs_neighbors.argmin()\n",
    "            row_min = min_index // n\n",
    "            col_min = min_index % n\n",
    " \n",
    "            # move to successor state (move queen...)\n",
    "            queens[col_min] = row_min\n",
    "        else:                                                   # local optimum reached (no goal state - failure)\n",
    "            return current_attack_pairs, queens"
   ]
  },
  {
   "cell_type": "code",
   "execution_count": 5,
   "metadata": {},
   "outputs": [
    {
     "name": "stdout",
     "output_type": "stream",
     "text": [
      "Success: [3 6 2 7 1 4 0 5]\n",
      "Success: [3 6 0 7 4 1 5 2]\n",
      "Success: [2 4 1 7 5 3 6 0]\n",
      "Success: [3 0 4 7 5 2 6 1]\n",
      "Success: [3 0 4 7 1 6 2 5]\n",
      "Success: [2 5 1 6 4 0 7 3]\n",
      "Success: [6 3 1 7 5 0 2 4]\n",
      "Success: [4 6 1 5 2 0 7 3]\n",
      "Success: [3 6 4 1 5 0 2 7]\n",
      "Success: [3 5 7 2 0 6 4 1]\n",
      "Number of successes: 10\n"
     ]
    }
   ],
   "source": [
    "num_successes = 0\n",
    "for i in range(100):\n",
    "    attack_pairs_count, queens = hill_climb_steepest_ascent(8)\n",
    "    if attack_pairs_count == 0:\n",
    "        print(f'Success: {queens}')\n",
    "        num_successes += 1\n",
    "print(f'Number of successes: {num_successes}')"
   ]
  },
  {
   "cell_type": "code",
   "execution_count": 6,
   "metadata": {},
   "outputs": [],
   "source": [
    "def print_solution(board):\n",
    "    \"\"\"\n",
    "    Prints out a board of queens by piggy-backing on the visualization functionality for dataframes in the \n",
    "    pandas package.  Not fancy but it's good enough to do the job.  The point of this assignmment is not to \n",
    "    become a graphics expert.  Although if you provide something better, that's more than welcome.\n",
    "    \"\"\"\n",
    "    grid = [['' for i in range(len(board))] for j in range(len(board))]\n",
    "    for i in range(len(board)):\n",
    "        grid[len(grid) - board[i] - 1][i] = 'Q'\n",
    "    display(pd.DataFrame(np.array(grid)))"
   ]
  },
  {
   "cell_type": "code",
   "execution_count": 7,
   "metadata": {},
   "outputs": [],
   "source": [
    "def print_solutions(solutions):\n",
    "    \"\"\"\n",
    "    Prints all the boards in the solutions list, passed as an input to this function.\n",
    "    \"\"\"\n",
    "    print('\\nThere are {} solutions:\\n'.format(len(solutions)))\n",
    "    print('*'*30)\n",
    "    for i in range(len(solutions)):        \n",
    "        print('\\nSolution {}:'.format(i+1))\n",
    "        print_solution(solutions[i])\n",
    "        print('*'*30)\n"
   ]
  },
  {
   "cell_type": "code",
   "execution_count": 8,
   "metadata": {},
   "outputs": [
    {
     "data": {
      "text/html": [
       "<div>\n",
       "<style scoped>\n",
       "    .dataframe tbody tr th:only-of-type {\n",
       "        vertical-align: middle;\n",
       "    }\n",
       "\n",
       "    .dataframe tbody tr th {\n",
       "        vertical-align: top;\n",
       "    }\n",
       "\n",
       "    .dataframe thead th {\n",
       "        text-align: right;\n",
       "    }\n",
       "</style>\n",
       "<table border=\"1\" class=\"dataframe\">\n",
       "  <thead>\n",
       "    <tr style=\"text-align: right;\">\n",
       "      <th></th>\n",
       "      <th>0</th>\n",
       "      <th>1</th>\n",
       "      <th>2</th>\n",
       "      <th>3</th>\n",
       "      <th>4</th>\n",
       "      <th>5</th>\n",
       "      <th>6</th>\n",
       "      <th>7</th>\n",
       "    </tr>\n",
       "  </thead>\n",
       "  <tbody>\n",
       "    <tr>\n",
       "      <th>0</th>\n",
       "      <td></td>\n",
       "      <td></td>\n",
       "      <td></td>\n",
       "      <td></td>\n",
       "      <td></td>\n",
       "      <td>Q</td>\n",
       "      <td></td>\n",
       "      <td></td>\n",
       "    </tr>\n",
       "    <tr>\n",
       "      <th>1</th>\n",
       "      <td></td>\n",
       "      <td></td>\n",
       "      <td>Q</td>\n",
       "      <td></td>\n",
       "      <td></td>\n",
       "      <td></td>\n",
       "      <td></td>\n",
       "      <td></td>\n",
       "    </tr>\n",
       "    <tr>\n",
       "      <th>2</th>\n",
       "      <td></td>\n",
       "      <td></td>\n",
       "      <td></td>\n",
       "      <td></td>\n",
       "      <td></td>\n",
       "      <td></td>\n",
       "      <td>Q</td>\n",
       "      <td></td>\n",
       "    </tr>\n",
       "    <tr>\n",
       "      <th>3</th>\n",
       "      <td></td>\n",
       "      <td>Q</td>\n",
       "      <td></td>\n",
       "      <td></td>\n",
       "      <td></td>\n",
       "      <td></td>\n",
       "      <td></td>\n",
       "      <td></td>\n",
       "    </tr>\n",
       "    <tr>\n",
       "      <th>4</th>\n",
       "      <td></td>\n",
       "      <td></td>\n",
       "      <td></td>\n",
       "      <td>Q</td>\n",
       "      <td></td>\n",
       "      <td></td>\n",
       "      <td></td>\n",
       "      <td></td>\n",
       "    </tr>\n",
       "    <tr>\n",
       "      <th>5</th>\n",
       "      <td></td>\n",
       "      <td></td>\n",
       "      <td></td>\n",
       "      <td></td>\n",
       "      <td></td>\n",
       "      <td></td>\n",
       "      <td></td>\n",
       "      <td>Q</td>\n",
       "    </tr>\n",
       "    <tr>\n",
       "      <th>6</th>\n",
       "      <td>Q</td>\n",
       "      <td></td>\n",
       "      <td></td>\n",
       "      <td></td>\n",
       "      <td></td>\n",
       "      <td></td>\n",
       "      <td></td>\n",
       "      <td></td>\n",
       "    </tr>\n",
       "    <tr>\n",
       "      <th>7</th>\n",
       "      <td></td>\n",
       "      <td></td>\n",
       "      <td></td>\n",
       "      <td></td>\n",
       "      <td>Q</td>\n",
       "      <td></td>\n",
       "      <td></td>\n",
       "      <td></td>\n",
       "    </tr>\n",
       "  </tbody>\n",
       "</table>\n",
       "</div>"
      ],
      "text/plain": [
       "   0  1  2  3  4  5  6  7\n",
       "0                 Q      \n",
       "1        Q               \n",
       "2                    Q   \n",
       "3     Q                  \n",
       "4           Q            \n",
       "5                       Q\n",
       "6  Q                     \n",
       "7              Q         "
      ]
     },
     "metadata": {},
     "output_type": "display_data"
    }
   ],
   "source": [
    "print_solution([1, 4, 6, 3, 0, 7, 5, 2])"
   ]
  },
  {
   "cell_type": "code",
   "execution_count": null,
   "metadata": {},
   "outputs": [],
   "source": []
  },
  {
   "cell_type": "code",
   "execution_count": null,
   "metadata": {},
   "outputs": [],
   "source": []
  },
  {
   "cell_type": "code",
   "execution_count": null,
   "metadata": {},
   "outputs": [],
   "source": []
  },
  {
   "cell_type": "markdown",
   "metadata": {},
   "source": [
    "### Problem 2 - Stochastic Hill Climbing\n",
    "\n",
    "Implement the stochastic hill climbing algorithm in the cell below."
   ]
  },
  {
   "cell_type": "code",
   "execution_count": 9,
   "metadata": {},
   "outputs": [],
   "source": [
    "def neighbors_probs(queens):\n",
    "    n = len(queens)\n",
    "\n",
    "    neighbors_counts = attack_pairs_board(queens).flatten()\n",
    "    max_attack_count_possible = n * (n-1) / 2\n",
    "    \n",
    "    neighbors_fitness = max_attack_count_possible - neighbors_counts\n",
    "    neighbors_fitness = neighbors_fitness - neighbors_fitness.min() + 1\n",
    "    neighbors_probs = neighbors_fitness / neighbors_fitness.sum()\n",
    "    \n",
    "    return neighbors_probs\n",
    "    "
   ]
  },
  {
   "cell_type": "code",
   "execution_count": 10,
   "metadata": {},
   "outputs": [
    {
     "data": {
      "text/plain": [
       "array([0.01879699, 0.01879699, 0.02255639, 0.0075188 , 0.02631579,\n",
       "       0.01879699, 0.02631579, 0.0037594 , 0.0037594 , 0.01879699,\n",
       "       0.0075188 , 0.01503759, 0.01503759, 0.01879699, 0.0075188 ,\n",
       "       0.0112782 , 0.0075188 , 0.0075188 , 0.0112782 , 0.0037594 ,\n",
       "       0.01503759, 0.0075188 , 0.01503759, 0.0075188 , 0.0075188 ,\n",
       "       0.01879699, 0.0075188 , 0.01503759, 0.0075188 , 0.01879699,\n",
       "       0.0112782 , 0.0112782 , 0.01503759, 0.01879699, 0.01879699,\n",
       "       0.0075188 , 0.02255639, 0.0112782 , 0.02255639, 0.0112782 ,\n",
       "       0.01879699, 0.02631579, 0.0037594 , 0.02255639, 0.01503759,\n",
       "       0.02631579, 0.01879699, 0.01879699, 0.01879699, 0.0112782 ,\n",
       "       0.02255639, 0.01503759, 0.02631579, 0.01879699, 0.02631579,\n",
       "       0.0112782 , 0.0037594 , 0.02631579, 0.01879699, 0.02255639,\n",
       "       0.02255639, 0.02631579, 0.01879699, 0.01879699])"
      ]
     },
     "execution_count": 10,
     "metadata": {},
     "output_type": "execute_result"
    }
   ],
   "source": [
    "queens = [3, 2, 1, 4, 3, 2, 1, 2]\n",
    "neighbors_probs(queens)"
   ]
  },
  {
   "cell_type": "code",
   "execution_count": 11,
   "metadata": {},
   "outputs": [],
   "source": [
    "def hill_climb_stochastic(n):\n",
    "    \n",
    "    # start with a random assignment of queens on the board.\n",
    "    queens = np.random.randint(n, size=n)\n",
    "    \n",
    "    # iterate until either a goal state reached (no attacking queens) \n",
    "    # or a local optimum.\n",
    "    \n",
    "    for i in range(500):\n",
    "        # get the number of attacking pairs for the current arrangement of queens.\n",
    "        current_attack_pairs = attack_pairs(queens)\n",
    "\n",
    "        if current_attack_pairs == 0:            # we have reached a goal state - return it\n",
    "            return 0, queens\n",
    "        else:                                                   \n",
    "            neighbors_dist = neighbors_probs(queens)\n",
    "            select_index = choices(np.arange(n**2), neighbors_dist)[0]\n",
    "            row_move = select_index // n\n",
    "            col_move = select_index % n\n",
    "            \n",
    "            # move to successor state (move queen...)\n",
    "            queens[col_move] = row_move\n",
    "    \n",
    "    return attack_pairs(queens), queens\n"
   ]
  },
  {
   "cell_type": "code",
   "execution_count": 12,
   "metadata": {},
   "outputs": [
    {
     "name": "stdout",
     "output_type": "stream",
     "text": [
      "Success: [3 6 4 1 5 0 2 7]\n",
      "Success: [4 6 0 2 7 5 3 1]\n",
      "Success: [5 7 1 3 0 6 4 2]\n",
      "Success: [0 4 7 5 2 6 1 3]\n",
      "Number of successes: 4\n"
     ]
    }
   ],
   "source": [
    "num_successes = 0\n",
    "for i in range(100):\n",
    "    attack_pairs_count, queens = hill_climb_stochastic(8)\n",
    "    if attack_pairs_count == 0:\n",
    "        print(f'Success: {queens}')\n",
    "        num_successes += 1\n",
    "print(f'Number of successes: {num_successes}')"
   ]
  },
  {
   "cell_type": "code",
   "execution_count": null,
   "metadata": {},
   "outputs": [],
   "source": []
  },
  {
   "cell_type": "code",
   "execution_count": null,
   "metadata": {},
   "outputs": [],
   "source": []
  },
  {
   "cell_type": "code",
   "execution_count": null,
   "metadata": {},
   "outputs": [],
   "source": []
  },
  {
   "cell_type": "code",
   "execution_count": null,
   "metadata": {},
   "outputs": [],
   "source": []
  },
  {
   "cell_type": "markdown",
   "metadata": {},
   "source": [
    "### Problem 3 - First Choice Hill Climbing\n",
    "\n",
    "Implement the first choice hill climbing algorithm in the cell below."
   ]
  },
  {
   "cell_type": "code",
   "execution_count": null,
   "metadata": {},
   "outputs": [],
   "source": []
  },
  {
   "cell_type": "code",
   "execution_count": null,
   "metadata": {},
   "outputs": [],
   "source": []
  },
  {
   "cell_type": "code",
   "execution_count": null,
   "metadata": {},
   "outputs": [],
   "source": []
  },
  {
   "cell_type": "code",
   "execution_count": null,
   "metadata": {},
   "outputs": [],
   "source": []
  },
  {
   "cell_type": "markdown",
   "metadata": {},
   "source": [
    "### Problem 4 - Random Restart Hill Climbing\n",
    "\n",
    "Implement the random restart hill climbing algorithm in the cell below."
   ]
  },
  {
   "cell_type": "code",
   "execution_count": null,
   "metadata": {},
   "outputs": [],
   "source": []
  },
  {
   "cell_type": "code",
   "execution_count": null,
   "metadata": {},
   "outputs": [],
   "source": []
  },
  {
   "cell_type": "code",
   "execution_count": null,
   "metadata": {},
   "outputs": [],
   "source": []
  },
  {
   "cell_type": "code",
   "execution_count": null,
   "metadata": {},
   "outputs": [],
   "source": []
  },
  {
   "cell_type": "markdown",
   "metadata": {},
   "source": [
    "### Problem 5 - Local Beam Search\n",
    "\n",
    "Implement the local beam search algorithm in the cell below."
   ]
  },
  {
   "cell_type": "code",
   "execution_count": null,
   "metadata": {},
   "outputs": [],
   "source": []
  },
  {
   "cell_type": "code",
   "execution_count": null,
   "metadata": {},
   "outputs": [],
   "source": []
  },
  {
   "cell_type": "code",
   "execution_count": null,
   "metadata": {},
   "outputs": [],
   "source": []
  },
  {
   "cell_type": "code",
   "execution_count": null,
   "metadata": {},
   "outputs": [],
   "source": []
  },
  {
   "cell_type": "markdown",
   "metadata": {},
   "source": [
    "### Problem 6 - Genetic Algorithm\n",
    "\n",
    "Implement a genetic algorithm for conducting the search, consistent with the approach discussed in class."
   ]
  },
  {
   "cell_type": "code",
   "execution_count": null,
   "metadata": {},
   "outputs": [],
   "source": []
  },
  {
   "cell_type": "code",
   "execution_count": null,
   "metadata": {},
   "outputs": [],
   "source": []
  },
  {
   "cell_type": "code",
   "execution_count": null,
   "metadata": {},
   "outputs": [],
   "source": []
  },
  {
   "cell_type": "code",
   "execution_count": null,
   "metadata": {},
   "outputs": [],
   "source": []
  },
  {
   "cell_type": "code",
   "execution_count": null,
   "metadata": {},
   "outputs": [],
   "source": []
  },
  {
   "cell_type": "code",
   "execution_count": null,
   "metadata": {},
   "outputs": [],
   "source": []
  },
  {
   "cell_type": "code",
   "execution_count": 13,
   "metadata": {},
   "outputs": [],
   "source": [
    "# let's not use this for now.\n",
    "\n",
    "def max_objective_fn_val(n):\n",
    "    '''\n",
    "    returns the maximum value the objective function can be, assuming we have no \n",
    "    attacking queen pairs on a board of size n x n.  This is the quantity from which \n",
    "    the number of attacking queen pairs will be deducted to determine the objective function\n",
    "    value for a given state (i.e., particular arrangement of queens on the board).\n",
    "    '''\n",
    "    return n * (n - 1) / 2"
   ]
  },
  {
   "cell_type": "code",
   "execution_count": 14,
   "metadata": {},
   "outputs": [
    {
     "data": {
      "text/plain": [
       "45.0"
      ]
     },
     "execution_count": 14,
     "metadata": {},
     "output_type": "execute_result"
    }
   ],
   "source": [
    "max_objective_fn_val(10)"
   ]
  },
  {
   "cell_type": "code",
   "execution_count": 15,
   "metadata": {},
   "outputs": [],
   "source": [
    "# let's not use this for now.\n",
    "\n",
    "def obj_fn_vals(queens):\n",
    "    max_obj_val = max_objective_fn_val(len(queens))\n",
    "    neighbors_attack_pairs = attack_pairs_board(queens)\n",
    "    return max_obj_val - neighbors_attack_pairs\n",
    "    "
   ]
  },
  {
   "cell_type": "code",
   "execution_count": null,
   "metadata": {},
   "outputs": [],
   "source": []
  },
  {
   "cell_type": "code",
   "execution_count": null,
   "metadata": {},
   "outputs": [],
   "source": []
  },
  {
   "cell_type": "code",
   "execution_count": null,
   "metadata": {},
   "outputs": [],
   "source": []
  },
  {
   "cell_type": "code",
   "execution_count": null,
   "metadata": {},
   "outputs": [],
   "source": []
  }
 ],
 "metadata": {
  "kernelspec": {
   "display_name": "Python 3 (ipykernel)",
   "language": "python",
   "name": "python3"
  },
  "language_info": {
   "codemirror_mode": {
    "name": "ipython",
    "version": 3
   },
   "file_extension": ".py",
   "mimetype": "text/x-python",
   "name": "python",
   "nbconvert_exporter": "python",
   "pygments_lexer": "ipython3",
   "version": "3.9.13"
  }
 },
 "nbformat": 4,
 "nbformat_minor": 4
}
