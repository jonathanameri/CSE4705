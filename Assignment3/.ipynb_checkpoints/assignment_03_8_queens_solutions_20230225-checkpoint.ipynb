{
 "cells": [
  {
   "cell_type": "markdown",
   "metadata": {},
   "source": [
    "# CSE 4705: Assignment 03 - Local Search - 8-queens"
   ]
  },
  {
   "cell_type": "markdown",
   "metadata": {},
   "source": [
    "## Goals\n",
    "In this lab you will:\n",
    "- Implement various local search algorithms that we've discussed in class.\n",
    "- Make comparisons of the computational overhead of these algorithms.\n"
   ]
  },
  {
   "cell_type": "markdown",
   "metadata": {},
   "source": [
    "##  Problem Statement\n",
    "\n",
    "In this assignment you will implement a number of local search algorithms for solving the n-queens problem.  As we discussed in class, this problem consists of determining how to arrange queen pieces on an n x n chess board so that no two queens are attacking each other.  The diagram below shows one of a number of successful arrangmeents of queens on an 8 x 8 chess board:\n",
    "\n",
    "<img src=\"images/eight_queens.png\" width=\"400\" height=\"400\">\n",
    "\n",
    "Your algorithms will start with a random arrangement of queens on the board, and then will utilize the algorithms to approach, or hopefully, successfully find, a goal state in which no two queens are attacking each other.\n",
    "\n",
    "The algorithms you will implement include the following:\n",
    "\n",
    "1.  Hill Climbing (Steepest Ascent)\n",
    "2.  Stochastic Hill Climbing\n",
    "3.  First Choice Hill Climbing\n",
    "4.  Random Restart Hill Climbing\n",
    "5.  Local Beam Search\n",
    "6.  Genetic Algorithm\n",
    "\n",
    "As discussed in class, a commonly used metric for the objective function for the 8-queens problem is the number of pairs of attacking queens.  One of the slides from Lecture 04 - Local Search shows the calculation for the values for this metric at each square on the board, as shown below:\n",
    "\n",
    "<img src=\"images/attacking_pairs.png\" width=\"700\" height=\"700\">\n",
    "\n",
    "You will use this metric for guiding the search in your algorithm implementations.\n",
    "\n"
   ]
  },
  {
   "cell_type": "markdown",
   "metadata": {},
   "source": [
    "### Problem 1 - Steepest Ascent Hill Climbing\n",
    "\n",
    "Implement the steepest ascent hill climbing algorithm in the cell below."
   ]
  },
  {
   "cell_type": "code",
   "execution_count": 1,
   "metadata": {},
   "outputs": [],
   "source": [
    "import pandas as pd\n",
    "import numpy as np\n",
    "from random import choices"
   ]
  },
  {
   "cell_type": "code",
   "execution_count": 2,
   "metadata": {},
   "outputs": [],
   "source": [
    "def attack_pairs(queens):\n",
    "    attack_pairs = 0\n",
    "\n",
    "    for i in range(len(queens)):\n",
    "        for j in range(i+1, len(queens)):\n",
    "            attack_squares = [queens[i], queens[i] + (j-i), queens[i] - (j-i)]\n",
    "            if queens[j] in attack_squares:\n",
    "                attack_pairs += 1\n",
    "    return attack_pairs"
   ]
  },
  {
   "cell_type": "code",
   "execution_count": 3,
   "metadata": {},
   "outputs": [],
   "source": [
    "def attack_pairs_board(queens):\n",
    "    \n",
    "    n = len(queens)\n",
    "\n",
    "    queens_work = queens.copy()\n",
    "\n",
    "    counts = np.zeros((n, n))\n",
    "\n",
    "    for i in range(n):\n",
    "        for j in range(n):\n",
    "            queens_work[i] = j\n",
    "            counts[j, i] = attack_pairs(queens_work)\n",
    "            queens_work = queens.copy()\n",
    "    return counts    "
   ]
  },
  {
   "cell_type": "code",
   "execution_count": 4,
   "metadata": {},
   "outputs": [],
   "source": [
    "def steepest_ascent_hill_climb(n):\n",
    "    \n",
    "    # start with a random assignment of queens on the board.\n",
    "    queens = np.random.randint(n, size=n)\n",
    "    \n",
    "    # iterate until either a goal state reached (no attacking queens) \n",
    "    # or a local optimum.\n",
    "    \n",
    "    while True:\n",
    "        # get the number of attacking pairs for the current arrangement of queens.\n",
    "        current_attack_pairs = attack_pairs(queens)\n",
    "\n",
    "        # calculate the number of attacking pairs for all the neighbors on the board.\n",
    "        attack_pairs_neighbors = attack_pairs_board(queens)\n",
    "\n",
    "        # get the min number of attacking pairs among neighbors\n",
    "        attack_pairs_neighbors_min = attack_pairs_neighbors.min()\n",
    "\n",
    "        if current_attack_pairs == 0:            # we have reached a goal state - return it\n",
    "            return 0, queens\n",
    "        elif attack_pairs_neighbors_min < current_attack_pairs:    # no goal state, so move to a state with \n",
    "                                                                   # min attacking pairs (i.e., steepest ascent)\n",
    "            min_index = attack_pairs_neighbors.argmin()\n",
    "            row_min = min_index // n\n",
    "            col_min = min_index % n\n",
    " \n",
    "            # move to successor state (move queen...)\n",
    "            queens[col_min] = row_min\n",
    "        else:                                                   # local optimum reached (no goal state - failure)\n",
    "            return current_attack_pairs, queens"
   ]
  },
  {
   "cell_type": "code",
   "execution_count": 5,
   "metadata": {},
   "outputs": [
    {
     "name": "stdout",
     "output_type": "stream",
     "text": [
      "Success: [7 2 0 5 1 4 6 3]\n",
      "Success: [5 2 0 6 4 7 1 3]\n",
      "Success: [4 1 3 5 7 2 0 6]\n",
      "Success: [6 0 2 7 5 3 1 4]\n",
      "Success: [5 3 0 4 7 1 6 2]\n",
      "Success: [3 1 4 7 5 0 2 6]\n",
      "Success: [4 6 1 5 2 0 3 7]\n",
      "Success: [3 1 6 2 5 7 4 0]\n",
      "Success: [1 4 6 3 0 7 5 2]\n",
      "Success: [5 1 6 0 2 4 7 3]\n",
      "Success: [2 4 1 7 5 3 6 0]\n",
      "Success: [1 3 5 7 2 0 6 4]\n",
      "Success: [3 1 7 4 6 0 2 5]\n",
      "Success: [3 1 7 5 0 2 4 6]\n",
      "Success: [0 6 3 5 7 1 4 2]\n",
      "Success: [3 1 6 2 5 7 0 4]\n",
      "Number of successes: 16\n"
     ]
    }
   ],
   "source": [
    "num_successes = 0\n",
    "for i in range(100):\n",
    "    attack_pairs_count, queens = steepest_ascent_hill_climb(8)\n",
    "    if attack_pairs_count == 0:\n",
    "        print(f'Success: {queens}')\n",
    "        num_successes += 1\n",
    "print(f'Number of successes: {num_successes}')"
   ]
  },
  {
   "cell_type": "code",
   "execution_count": 6,
   "metadata": {},
   "outputs": [],
   "source": [
    "def print_solution(board):\n",
    "    \"\"\"\n",
    "    Prints out a board of queens by piggy-backing on the visualization functionality for dataframes in the \n",
    "    pandas package.  Not fancy but it's good enough to do the job.  The point of this assignmment is not to \n",
    "    become a graphics expert.  Although if you provide something better, that's more than welcome.\n",
    "    \"\"\"\n",
    "    grid = [['' for i in range(len(board))] for j in range(len(board))]\n",
    "    for i in range(len(board)):\n",
    "        grid[len(grid) - board[i] - 1][i] = 'Q'\n",
    "    display(pd.DataFrame(np.array(grid)))"
   ]
  },
  {
   "cell_type": "code",
   "execution_count": 7,
   "metadata": {},
   "outputs": [],
   "source": [
    "def print_solutions(solutions):\n",
    "    \"\"\"\n",
    "    Prints all the boards in the solutions list, passed as an input to this function.\n",
    "    \"\"\"\n",
    "    print('\\nThere are {} solutions:\\n'.format(len(solutions)))\n",
    "    print('*'*30)\n",
    "    for i in range(len(solutions)):        \n",
    "        print('\\nSolution {}:'.format(i+1))\n",
    "        print_solution(solutions[i])\n",
    "        print('*'*30)\n"
   ]
  },
  {
   "cell_type": "code",
   "execution_count": 8,
   "metadata": {},
   "outputs": [
    {
     "data": {
      "text/html": [
       "<div>\n",
       "<style scoped>\n",
       "    .dataframe tbody tr th:only-of-type {\n",
       "        vertical-align: middle;\n",
       "    }\n",
       "\n",
       "    .dataframe tbody tr th {\n",
       "        vertical-align: top;\n",
       "    }\n",
       "\n",
       "    .dataframe thead th {\n",
       "        text-align: right;\n",
       "    }\n",
       "</style>\n",
       "<table border=\"1\" class=\"dataframe\">\n",
       "  <thead>\n",
       "    <tr style=\"text-align: right;\">\n",
       "      <th></th>\n",
       "      <th>0</th>\n",
       "      <th>1</th>\n",
       "      <th>2</th>\n",
       "      <th>3</th>\n",
       "      <th>4</th>\n",
       "      <th>5</th>\n",
       "      <th>6</th>\n",
       "      <th>7</th>\n",
       "    </tr>\n",
       "  </thead>\n",
       "  <tbody>\n",
       "    <tr>\n",
       "      <th>0</th>\n",
       "      <td></td>\n",
       "      <td></td>\n",
       "      <td></td>\n",
       "      <td></td>\n",
       "      <td></td>\n",
       "      <td>Q</td>\n",
       "      <td></td>\n",
       "      <td></td>\n",
       "    </tr>\n",
       "    <tr>\n",
       "      <th>1</th>\n",
       "      <td></td>\n",
       "      <td></td>\n",
       "      <td>Q</td>\n",
       "      <td></td>\n",
       "      <td></td>\n",
       "      <td></td>\n",
       "      <td></td>\n",
       "      <td></td>\n",
       "    </tr>\n",
       "    <tr>\n",
       "      <th>2</th>\n",
       "      <td></td>\n",
       "      <td></td>\n",
       "      <td></td>\n",
       "      <td></td>\n",
       "      <td></td>\n",
       "      <td></td>\n",
       "      <td>Q</td>\n",
       "      <td></td>\n",
       "    </tr>\n",
       "    <tr>\n",
       "      <th>3</th>\n",
       "      <td></td>\n",
       "      <td>Q</td>\n",
       "      <td></td>\n",
       "      <td></td>\n",
       "      <td></td>\n",
       "      <td></td>\n",
       "      <td></td>\n",
       "      <td></td>\n",
       "    </tr>\n",
       "    <tr>\n",
       "      <th>4</th>\n",
       "      <td></td>\n",
       "      <td></td>\n",
       "      <td></td>\n",
       "      <td>Q</td>\n",
       "      <td></td>\n",
       "      <td></td>\n",
       "      <td></td>\n",
       "      <td></td>\n",
       "    </tr>\n",
       "    <tr>\n",
       "      <th>5</th>\n",
       "      <td></td>\n",
       "      <td></td>\n",
       "      <td></td>\n",
       "      <td></td>\n",
       "      <td></td>\n",
       "      <td></td>\n",
       "      <td></td>\n",
       "      <td>Q</td>\n",
       "    </tr>\n",
       "    <tr>\n",
       "      <th>6</th>\n",
       "      <td>Q</td>\n",
       "      <td></td>\n",
       "      <td></td>\n",
       "      <td></td>\n",
       "      <td></td>\n",
       "      <td></td>\n",
       "      <td></td>\n",
       "      <td></td>\n",
       "    </tr>\n",
       "    <tr>\n",
       "      <th>7</th>\n",
       "      <td></td>\n",
       "      <td></td>\n",
       "      <td></td>\n",
       "      <td></td>\n",
       "      <td>Q</td>\n",
       "      <td></td>\n",
       "      <td></td>\n",
       "      <td></td>\n",
       "    </tr>\n",
       "  </tbody>\n",
       "</table>\n",
       "</div>"
      ],
      "text/plain": [
       "   0  1  2  3  4  5  6  7\n",
       "0                 Q      \n",
       "1        Q               \n",
       "2                    Q   \n",
       "3     Q                  \n",
       "4           Q            \n",
       "5                       Q\n",
       "6  Q                     \n",
       "7              Q         "
      ]
     },
     "metadata": {},
     "output_type": "display_data"
    }
   ],
   "source": [
    "print_solution([1, 4, 6, 3, 0, 7, 5, 2])"
   ]
  },
  {
   "cell_type": "code",
   "execution_count": null,
   "metadata": {},
   "outputs": [],
   "source": []
  },
  {
   "cell_type": "code",
   "execution_count": null,
   "metadata": {},
   "outputs": [],
   "source": []
  },
  {
   "cell_type": "code",
   "execution_count": null,
   "metadata": {},
   "outputs": [],
   "source": []
  },
  {
   "cell_type": "markdown",
   "metadata": {},
   "source": [
    "### Problem 2 - Stochastic Hill Climbing\n",
    "\n",
    "Implement the stochastic hill climbing algorithm in the cell below."
   ]
  },
  {
   "cell_type": "code",
   "execution_count": 9,
   "metadata": {},
   "outputs": [],
   "source": [
    "queens = [3, 2, 1, 4, 3, 2, 1, 2]"
   ]
  },
  {
   "cell_type": "code",
   "execution_count": 12,
   "metadata": {},
   "outputs": [
    {
     "data": {
      "text/plain": [
       "array([14., 14., 13., 17., 12., 14., 12., 18., 18., 14., 17., 15., 15.,\n",
       "       14., 17., 16., 17., 17., 16., 18., 15., 17., 15., 17., 17., 14.,\n",
       "       17., 15., 17., 14., 16., 16., 15., 14., 14., 17., 13., 16., 13.,\n",
       "       16., 14., 12., 18., 13., 15., 12., 14., 14., 14., 16., 13., 15.,\n",
       "       12., 14., 12., 16., 18., 12., 14., 13., 13., 12., 14., 14.])"
      ]
     },
     "execution_count": 12,
     "metadata": {},
     "output_type": "execute_result"
    }
   ],
   "source": [
    "neighbors_counts =  neighbors_counts = attack_pairs_board(queens).flatten()\n",
    "neighbors_counts"
   ]
  },
  {
   "cell_type": "code",
   "execution_count": 17,
   "metadata": {},
   "outputs": [
    {
     "data": {
      "text/plain": [
       "12.0"
      ]
     },
     "execution_count": 17,
     "metadata": {},
     "output_type": "execute_result"
    }
   ],
   "source": [
    "x_1 = neighbors_counts.min()\n",
    "x_1"
   ]
  },
  {
   "cell_type": "code",
   "execution_count": 18,
   "metadata": {},
   "outputs": [
    {
     "data": {
      "text/plain": [
       "18.0"
      ]
     },
     "execution_count": 18,
     "metadata": {},
     "output_type": "execute_result"
    }
   ],
   "source": [
    "x_2 = neighbors_counts.max()\n",
    "x_2"
   ]
  },
  {
   "cell_type": "code",
   "execution_count": 16,
   "metadata": {},
   "outputs": [],
   "source": [
    "k = 5"
   ]
  },
  {
   "cell_type": "code",
   "execution_count": 28,
   "metadata": {},
   "outputs": [
    {
     "data": {
      "text/plain": [
       "array([14., 14., 15., 11., 16., 14., 16., 10., 10., 14., 11., 13., 13.,\n",
       "       14., 11., 12., 11., 11., 12., 10., 13., 11., 13., 11., 11., 14.,\n",
       "       11., 13., 11., 14., 12., 12., 13., 14., 14., 11., 15., 12., 15.,\n",
       "       12., 14., 16., 10., 15., 13., 16., 14., 14., 14., 12., 15., 13.,\n",
       "       16., 14., 16., 12., 10., 16., 14., 15., 15., 16., 14., 14.])"
      ]
     },
     "execution_count": 28,
     "metadata": {},
     "output_type": "execute_result"
    }
   ],
   "source": [
    "n = len(queens)\n",
    "\n",
    "max_attack_count_possible = n * (n-1) / 2\n",
    "neighbors_fitness = max_attack_count_possible - neighbors_counts\n",
    "neighbors_fitness"
   ]
  },
  {
   "cell_type": "code",
   "execution_count": 31,
   "metadata": {},
   "outputs": [
    {
     "data": {
      "text/plain": [
       "10.0"
      ]
     },
     "execution_count": 31,
     "metadata": {},
     "output_type": "execute_result"
    }
   ],
   "source": [
    "x_1 = neighbors_fitness.min()\n",
    "x_1"
   ]
  },
  {
   "cell_type": "code",
   "execution_count": 32,
   "metadata": {},
   "outputs": [
    {
     "data": {
      "text/plain": [
       "16.0"
      ]
     },
     "execution_count": 32,
     "metadata": {},
     "output_type": "execute_result"
    }
   ],
   "source": [
    "x_2 = neighbors_fitness.max()\n",
    "x_2"
   ]
  },
  {
   "cell_type": "code",
   "execution_count": 33,
   "metadata": {},
   "outputs": [],
   "source": [
    "neighbors_fitness_scaled = neighbors_fitness * (k - 1) / (x_2 - x_1) + (x_2 - k * x_1)/ (x_2 - x_1)"
   ]
  },
  {
   "cell_type": "code",
   "execution_count": 34,
   "metadata": {},
   "outputs": [
    {
     "data": {
      "text/plain": [
       "array([3.66666667, 3.66666667, 4.33333333, 1.66666667, 5.        ,\n",
       "       3.66666667, 5.        , 1.        , 1.        , 3.66666667,\n",
       "       1.66666667, 3.        , 3.        , 3.66666667, 1.66666667,\n",
       "       2.33333333, 1.66666667, 1.66666667, 2.33333333, 1.        ,\n",
       "       3.        , 1.66666667, 3.        , 1.66666667, 1.66666667,\n",
       "       3.66666667, 1.66666667, 3.        , 1.66666667, 3.66666667,\n",
       "       2.33333333, 2.33333333, 3.        , 3.66666667, 3.66666667,\n",
       "       1.66666667, 4.33333333, 2.33333333, 4.33333333, 2.33333333,\n",
       "       3.66666667, 5.        , 1.        , 4.33333333, 3.        ,\n",
       "       5.        , 3.66666667, 3.66666667, 3.66666667, 2.33333333,\n",
       "       4.33333333, 3.        , 5.        , 3.66666667, 5.        ,\n",
       "       2.33333333, 1.        , 5.        , 3.66666667, 4.33333333,\n",
       "       4.33333333, 5.        , 3.66666667, 3.66666667])"
      ]
     },
     "execution_count": 34,
     "metadata": {},
     "output_type": "execute_result"
    }
   ],
   "source": [
    "neighbors_fitness_scaled"
   ]
  },
  {
   "cell_type": "code",
   "execution_count": 39,
   "metadata": {},
   "outputs": [
    {
     "data": {
      "text/plain": [
       "1.0"
      ]
     },
     "execution_count": 39,
     "metadata": {},
     "output_type": "execute_result"
    }
   ],
   "source": [
    "neighbors_fitness_scaled.min()"
   ]
  },
  {
   "cell_type": "code",
   "execution_count": 40,
   "metadata": {},
   "outputs": [
    {
     "data": {
      "text/plain": [
       "4.999999999999999"
      ]
     },
     "execution_count": 40,
     "metadata": {},
     "output_type": "execute_result"
    }
   ],
   "source": [
    "neighbors_fitness_scaled.max()"
   ]
  },
  {
   "cell_type": "code",
   "execution_count": 41,
   "metadata": {},
   "outputs": [],
   "source": [
    "neighbors_probs = neighbors_fitness_scaled / neighbors_fitness_scaled.sum()"
   ]
  },
  {
   "cell_type": "code",
   "execution_count": 42,
   "metadata": {},
   "outputs": [
    {
     "data": {
      "text/plain": [
       "array([0.01845638, 0.01845638, 0.02181208, 0.00838926, 0.02516779,\n",
       "       0.01845638, 0.02516779, 0.00503356, 0.00503356, 0.01845638,\n",
       "       0.00838926, 0.01510067, 0.01510067, 0.01845638, 0.00838926,\n",
       "       0.01174497, 0.00838926, 0.00838926, 0.01174497, 0.00503356,\n",
       "       0.01510067, 0.00838926, 0.01510067, 0.00838926, 0.00838926,\n",
       "       0.01845638, 0.00838926, 0.01510067, 0.00838926, 0.01845638,\n",
       "       0.01174497, 0.01174497, 0.01510067, 0.01845638, 0.01845638,\n",
       "       0.00838926, 0.02181208, 0.01174497, 0.02181208, 0.01174497,\n",
       "       0.01845638, 0.02516779, 0.00503356, 0.02181208, 0.01510067,\n",
       "       0.02516779, 0.01845638, 0.01845638, 0.01845638, 0.01174497,\n",
       "       0.02181208, 0.01510067, 0.02516779, 0.01845638, 0.02516779,\n",
       "       0.01174497, 0.00503356, 0.02516779, 0.01845638, 0.02181208,\n",
       "       0.02181208, 0.02516779, 0.01845638, 0.01845638])"
      ]
     },
     "execution_count": 42,
     "metadata": {},
     "output_type": "execute_result"
    }
   ],
   "source": [
    "neighbors_probs"
   ]
  },
  {
   "cell_type": "code",
   "execution_count": 43,
   "metadata": {},
   "outputs": [
    {
     "data": {
      "text/plain": [
       "0.005033557046979866"
      ]
     },
     "execution_count": 43,
     "metadata": {},
     "output_type": "execute_result"
    }
   ],
   "source": [
    "neighbors_probs.min()"
   ]
  },
  {
   "cell_type": "code",
   "execution_count": 44,
   "metadata": {},
   "outputs": [
    {
     "data": {
      "text/plain": [
       "0.025167785234899327"
      ]
     },
     "execution_count": 44,
     "metadata": {},
     "output_type": "execute_result"
    }
   ],
   "source": [
    "neighbors_probs.max()"
   ]
  },
  {
   "cell_type": "code",
   "execution_count": 45,
   "metadata": {},
   "outputs": [
    {
     "data": {
      "text/plain": [
       "4.999999999999999"
      ]
     },
     "execution_count": 45,
     "metadata": {},
     "output_type": "execute_result"
    }
   ],
   "source": [
    "neighbors_probs.max() / neighbors_probs.min()"
   ]
  },
  {
   "cell_type": "code",
   "execution_count": 50,
   "metadata": {},
   "outputs": [],
   "source": [
    "def neighbors_probs(queens, k):\n",
    "    n = len(queens)\n",
    "\n",
    "    neighbors_counts = attack_pairs_board(queens).flatten()\n",
    "    max_attack_count_possible = n * (n-1) / 2\n",
    "    \n",
    "    neighbors_fitness = max_attack_count_possible - neighbors_counts\n",
    "    x_1 = neighbors_fitness.min()\n",
    "    x_2 = neighbors_fitness.max()\n",
    "    neighbors_fitness_scaled = neighbors_fitness * (k - 1) / (x_2 - x_1) + (x_2 - k * x_1)/ (x_2 - x_1)\n",
    "    return neighbors_fitness_scaled / neighbors_fitness_scaled.sum()"
   ]
  },
  {
   "cell_type": "code",
   "execution_count": 51,
   "metadata": {},
   "outputs": [
    {
     "data": {
      "text/plain": [
       "[3, 2, 1, 4, 3, 2, 1, 2]"
      ]
     },
     "execution_count": 51,
     "metadata": {},
     "output_type": "execute_result"
    }
   ],
   "source": [
    "queens"
   ]
  },
  {
   "cell_type": "code",
   "execution_count": 57,
   "metadata": {},
   "outputs": [
    {
     "data": {
      "text/plain": [
       "array([0.01942207, 0.01942207, 0.02392231, 0.00592136, 0.02842255,\n",
       "       0.01942207, 0.02842255, 0.00142113, 0.00142113, 0.01942207,\n",
       "       0.00592136, 0.01492184, 0.01492184, 0.01942207, 0.00592136,\n",
       "       0.0104216 , 0.00592136, 0.00592136, 0.0104216 , 0.00142113,\n",
       "       0.01492184, 0.00592136, 0.01492184, 0.00592136, 0.00592136,\n",
       "       0.01942207, 0.00592136, 0.01492184, 0.00592136, 0.01942207,\n",
       "       0.0104216 , 0.0104216 , 0.01492184, 0.01942207, 0.01942207,\n",
       "       0.00592136, 0.02392231, 0.0104216 , 0.02392231, 0.0104216 ,\n",
       "       0.01942207, 0.02842255, 0.00142113, 0.02392231, 0.01492184,\n",
       "       0.02842255, 0.01942207, 0.01942207, 0.01942207, 0.0104216 ,\n",
       "       0.02392231, 0.01492184, 0.02842255, 0.01942207, 0.02842255,\n",
       "       0.0104216 , 0.00142113, 0.02842255, 0.01942207, 0.02392231,\n",
       "       0.02392231, 0.02842255, 0.01942207, 0.01942207])"
      ]
     },
     "execution_count": 57,
     "metadata": {},
     "output_type": "execute_result"
    }
   ],
   "source": [
    "neighbors_probs(queens, k=20)"
   ]
  },
  {
   "cell_type": "code",
   "execution_count": 107,
   "metadata": {},
   "outputs": [],
   "source": [
    "def stochastic_hill_climb(n, k):\n",
    "    \n",
    "    # start with a random assignment of queens on the board.\n",
    "    queens = np.random.randint(n, size=n)\n",
    "    \n",
    "    # iterate until either a goal state reached (no attacking queens) \n",
    "    # or a local optimum.\n",
    "    \n",
    "    for i in range(1000):\n",
    "        # get the number of attacking pairs for the current arrangement of queens.\n",
    "        current_attack_pairs = attack_pairs(queens)\n",
    "\n",
    "        if current_attack_pairs == 0:            # we have reached a goal state - return it\n",
    "            return 0, queens\n",
    "        else:                                                   \n",
    "            n_probs = neighbors_probs(queens, k)\n",
    "            select_index = choices(np.arange(n**2), n_probs)[0]\n",
    "            row_move = select_index // n\n",
    "            col_move = select_index % n\n",
    "            \n",
    "            # move to successor state (move queen...)\n",
    "            queens[col_move] = row_move\n",
    "    \n",
    "    return attack_pairs(queens), queens\n"
   ]
  },
  {
   "cell_type": "code",
   "execution_count": 108,
   "metadata": {},
   "outputs": [
    {
     "name": "stdout",
     "output_type": "stream",
     "text": [
      "Success: [3 1 7 4 6 0 2 5]\n",
      "Success: [4 6 1 3 7 0 2 5]\n",
      "Success: [5 3 6 0 2 4 1 7]\n",
      "Success: [6 2 7 1 4 0 5 3]\n",
      "Success: [6 1 5 2 0 3 7 4]\n",
      "Success: [0 4 7 5 2 6 1 3]\n",
      "Success: [3 0 4 7 5 2 6 1]\n",
      "Success: [6 2 7 1 4 0 5 3]\n",
      "Success: [4 6 0 3 1 7 5 2]\n",
      "Success: [3 1 7 5 0 2 4 6]\n",
      "Success: [5 3 1 7 4 6 0 2]\n",
      "Number of successes: 11\n"
     ]
    }
   ],
   "source": [
    "num_successes = 0\n",
    "for i in range(100):\n",
    "    attack_pairs_count, queens = stochastic_hill_climb(n = 8, k = 5000)\n",
    "    if attack_pairs_count == 0:\n",
    "        print(f'Success: {queens}')\n",
    "        num_successes += 1\n",
    "print(f'Number of successes: {num_successes}')"
   ]
  },
  {
   "cell_type": "markdown",
   "metadata": {},
   "source": [
    "### Problem 3 - First Choice Hill Climbing\n",
    "\n",
    "Implement the first choice hill climbing algorithm in the cell below."
   ]
  },
  {
   "cell_type": "code",
   "execution_count": 133,
   "metadata": {},
   "outputs": [],
   "source": [
    "def first_choice(queens, k):\n",
    "    \n",
    "    n = len(queens)\n",
    "    current_attack_pairs = attack_pairs(queens)\n",
    "    n_probs = neighbors_probs(queens, k)\n",
    "    \n",
    "    neighbors_counts = attack_pairs_board(queens).flatten()\n",
    "    select_index = choices(np.arange(n**2), n_probs)[0]\n",
    "    \n",
    "    while neighbors_counts[select_index] >= current_attack_pairs:\n",
    "        select_index = choices(np.arange(n**2), n_probs)[0]\n",
    "    \n",
    "    return select_index"
   ]
  },
  {
   "cell_type": "code",
   "execution_count": 134,
   "metadata": {},
   "outputs": [
    {
     "name": "stdout",
     "output_type": "stream",
     "text": [
      "queens: [3, 2, 1, 4, 3, 2, 1, 2]\n",
      "attack_pairs(queens): 17\n",
      "select_index: 49\n",
      "row_move: 6\n",
      "col_move: 1\n",
      "queens: [3, 6, 1, 4, 3, 2, 1, 2]\n",
      "attack_pairs(queens): 16\n"
     ]
    }
   ],
   "source": [
    "queens = [3, 2, 1, 4, 3, 2, 1, 2]\n",
    "print(f'queens: {queens}')\n",
    "\n",
    "ap = attack_pairs(queens)\n",
    "print(f'attack_pairs(queens): {ap}')\n",
    "\n",
    "select_index = first_choice(queens, 5)\n",
    "row_move = select_index // n\n",
    "col_move = select_index % n\n",
    "\n",
    "print(f'select_index: {select_index}')\n",
    "print(f'row_move: {row_move}')\n",
    "print(f'col_move: {col_move}')\n",
    "\n",
    "# move to successor state (move queen...)\n",
    "queens[col_move] = row_move\n",
    "print(f'queens: {queens}')\n",
    "\n",
    "ap_new = attack_pairs(queens)\n",
    "print(f'attack_pairs(queens): {ap_new}')"
   ]
  },
  {
   "cell_type": "code",
   "execution_count": 135,
   "metadata": {},
   "outputs": [],
   "source": [
    "def first_choice_hill_climb(n, k):\n",
    "    \n",
    "    # start with a random assignment of queens on the board.\n",
    "    queens = np.random.randint(n, size=n)\n",
    "    \n",
    "    # iterate until either a goal state reached (no attacking queens) \n",
    "    # or a local optimum.\n",
    "    \n",
    "    for i in range(1000):\n",
    "        # get the number of attacking pairs for the current arrangement of queens.\n",
    "        current_attack_pairs = attack_pairs(queens)\n",
    "        \n",
    "        attack_pairs_neighbors = attack_pairs_board(queens)\n",
    "\n",
    "        if current_attack_pairs == 0:            # we have reached a goal state - return queens list\n",
    "            return 0, queens\n",
    "        elif attack_pairs_neighbors.min() < current_attack_pairs:    # not goal state and not local min -> move queen\n",
    "            n_probs = neighbors_probs(queens, k)\n",
    "            select_index = first_choice(queens, k)\n",
    "            row_move = select_index // n\n",
    "            col_move = select_index % n\n",
    "            \n",
    "            # move to successor state (move queen...)\n",
    "            queens[col_move] = row_move\n",
    "        else:                                                   # local min reached (no goal state - failure)\n",
    "            return current_attack_pairs, queens    \n",
    "    return attack_pairs(queens), queens\n",
    "\n"
   ]
  },
  {
   "cell_type": "code",
   "execution_count": 157,
   "metadata": {},
   "outputs": [
    {
     "name": "stdout",
     "output_type": "stream",
     "text": [
      "Success: [4 2 0 5 7 1 3 6]\n",
      "Success: [7 2 0 5 1 4 6 3]\n",
      "Success: [5 1 6 0 3 7 4 2]\n",
      "Success: [3 6 2 7 1 4 0 5]\n",
      "Success: [2 5 1 4 7 0 6 3]\n",
      "Success: [3 7 4 2 0 6 1 5]\n",
      "Success: [2 5 1 6 4 0 7 3]\n",
      "Success: [1 5 0 6 3 7 2 4]\n",
      "Success: [4 1 7 0 3 6 2 5]\n",
      "Success: [0 6 4 7 1 3 5 2]\n",
      "Success: [5 0 4 1 7 2 6 3]\n",
      "Success: [0 5 7 2 6 3 1 4]\n",
      "Success: [2 5 3 1 7 4 6 0]\n",
      "Success: [4 1 5 0 6 3 7 2]\n",
      "Success: [4 1 3 6 2 7 5 0]\n",
      "Success: [3 5 7 2 0 6 4 1]\n",
      "Success: [6 3 1 4 7 0 2 5]\n",
      "Success: [5 2 0 7 3 1 6 4]\n",
      "Success: [5 3 1 7 4 6 0 2]\n",
      "Success: [4 2 7 3 6 0 5 1]\n",
      "Success: [5 3 6 0 7 1 4 2]\n",
      "Success: [1 7 5 0 2 4 6 3]\n",
      "Success: [0 6 3 5 7 1 4 2]\n",
      "Success: [4 7 3 0 6 1 5 2]\n",
      "Success: [7 2 0 5 1 4 6 3]\n",
      "Success: [5 1 6 0 2 4 7 3]\n",
      "Success: [5 2 6 3 0 7 1 4]\n",
      "Success: [3 1 7 4 6 0 2 5]\n",
      "Success: [4 1 3 6 2 7 5 0]\n",
      "Success: [2 4 7 3 0 6 1 5]\n",
      "Success: [0 5 7 2 6 3 1 4]\n",
      "Success: [5 3 6 0 7 1 4 2]\n",
      "Success: [4 0 7 5 2 6 1 3]\n",
      "Success: [3 1 7 5 0 2 4 6]\n",
      "Success: [2 5 7 1 3 0 6 4]\n",
      "Success: [6 2 7 1 4 0 5 3]\n",
      "Success: [0 4 7 5 2 6 1 3]\n",
      "Success: [2 5 7 1 3 0 6 4]\n",
      "Success: [5 3 1 7 4 6 0 2]\n",
      "Success: [0 4 7 5 2 6 1 3]\n",
      "Success: [3 6 4 1 5 0 2 7]\n",
      "Success: [5 0 4 1 7 2 6 3]\n",
      "Success: [5 2 6 1 7 4 0 3]\n",
      "Success: [5 3 0 4 7 1 6 2]\n",
      "Success: [4 2 0 5 7 1 3 6]\n",
      "Success: [4 6 0 2 7 5 3 1]\n",
      "Success: [4 0 7 5 2 6 1 3]\n",
      "Success: [2 7 3 6 0 5 1 4]\n",
      "Success: [3 1 6 4 0 7 5 2]\n",
      "Success: [2 4 1 7 0 6 3 5]\n",
      "Success: [6 3 1 4 7 0 2 5]\n",
      "Success: [4 1 3 5 7 2 0 6]\n",
      "Success: [3 1 4 7 5 0 2 6]\n",
      "Success: [6 4 2 0 5 7 1 3]\n",
      "Success: [5 2 6 1 7 4 0 3]\n",
      "Success: [6 1 3 0 7 4 2 5]\n",
      "Success: [5 2 4 6 0 3 1 7]\n",
      "Success: [1 3 5 7 2 0 6 4]\n",
      "Success: [7 1 4 2 0 6 3 5]\n",
      "Success: [4 7 3 0 2 5 1 6]\n",
      "Success: [3 0 4 7 1 6 2 5]\n",
      "Success: [2 7 3 6 0 5 1 4]\n",
      "Success: [4 1 3 5 7 2 0 6]\n",
      "Success: [2 5 1 6 0 3 7 4]\n",
      "Success: [1 3 5 7 2 0 6 4]\n",
      "Success: [2 5 1 4 7 0 6 3]\n",
      "Success: [2 4 6 0 3 1 7 5]\n",
      "Success: [5 2 0 7 4 1 3 6]\n",
      "Success: [3 6 0 7 4 1 5 2]\n",
      "Success: [6 1 3 0 7 4 2 5]\n",
      "Success: [2 5 3 0 7 4 6 1]\n",
      "Success: [6 3 1 7 5 0 2 4]\n",
      "Success: [3 1 6 2 5 7 4 0]\n",
      "Success: [1 5 7 2 0 3 6 4]\n",
      "Success: [2 6 1 7 4 0 3 5]\n",
      "Success: [1 4 6 0 2 7 5 3]\n",
      "Success: [5 2 4 7 0 3 1 6]\n",
      "Success: [5 2 4 7 0 3 1 6]\n",
      "Success: [1 7 5 0 2 4 6 3]\n",
      "Success: [6 1 3 0 7 4 2 5]\n",
      "Success: [3 6 4 2 0 5 7 1]\n",
      "Success: [5 0 4 1 7 2 6 3]\n",
      "Success: [4 7 3 0 2 5 1 6]\n",
      "Success: [1 7 5 0 2 4 6 3]\n",
      "Success: [1 6 4 7 0 3 5 2]\n",
      "Success: [1 6 4 7 0 3 5 2]\n",
      "Success: [2 4 1 7 0 6 3 5]\n",
      "Success: [5 2 0 7 4 1 3 6]\n",
      "Success: [4 6 0 3 1 7 5 2]\n",
      "Success: [4 0 7 3 1 6 2 5]\n",
      "Success: [5 3 6 0 2 4 1 7]\n",
      "Success: [5 3 6 0 2 4 1 7]\n",
      "Success: [5 3 1 7 4 6 0 2]\n",
      "Success: [6 1 5 2 0 3 7 4]\n",
      "Success: [0 5 7 2 6 3 1 4]\n",
      "Success: [3 7 0 4 6 1 5 2]\n",
      "Success: [4 7 3 0 6 1 5 2]\n",
      "Success: [5 7 1 3 0 6 4 2]\n",
      "Success: [5 2 4 7 0 3 1 6]\n",
      "Success: [1 6 4 7 0 3 5 2]\n",
      "Success: [2 5 7 1 3 0 6 4]\n",
      "Success: [3 1 6 4 0 7 5 2]\n",
      "Success: [1 6 2 5 7 4 0 3]\n",
      "Success: [6 3 1 4 7 0 2 5]\n",
      "Success: [2 6 1 7 4 0 3 5]\n",
      "Success: [5 7 1 3 0 6 4 2]\n",
      "Success: [5 2 0 6 4 7 1 3]\n",
      "Success: [6 4 2 0 5 7 1 3]\n",
      "Success: [2 4 1 7 5 3 6 0]\n",
      "Success: [2 4 7 3 0 6 1 5]\n",
      "Success: [5 0 4 1 7 2 6 3]\n",
      "Success: [3 1 6 4 0 7 5 2]\n",
      "Success: [0 6 4 7 1 3 5 2]\n",
      "Success: [5 3 6 0 7 1 4 2]\n",
      "Success: [4 1 3 5 7 2 0 6]\n",
      "Success: [5 2 0 7 3 1 6 4]\n",
      "Success: [5 2 0 6 4 7 1 3]\n",
      "Success: [2 5 7 0 4 6 1 3]\n",
      "Success: [3 0 4 7 1 6 2 5]\n",
      "Success: [1 6 2 5 7 4 0 3]\n",
      "Success: [3 1 7 4 6 0 2 5]\n",
      "Success: [3 1 7 5 0 2 4 6]\n",
      "Success: [6 1 3 0 7 4 2 5]\n",
      "Success: [3 0 4 7 1 6 2 5]\n",
      "Success: [5 3 0 4 7 1 6 2]\n",
      "Number of successes: 125\n"
     ]
    }
   ],
   "source": [
    "num_successes = 0\n",
    "for i in range(1000):\n",
    "    attack_pairs_count, queens = first_choice_hill_climb(n = 8, k = 10)\n",
    "    if attack_pairs_count == 0:\n",
    "        print(f'Success: {queens}')\n",
    "        num_successes += 1\n",
    "print(f'Number of successes: {num_successes}')"
   ]
  },
  {
   "cell_type": "markdown",
   "metadata": {},
   "source": [
    "### Problem 4 - Random Restart Hill Climbing\n",
    "\n",
    "Implement the random restart hill climbing algorithm in the cell below."
   ]
  },
  {
   "cell_type": "code",
   "execution_count": null,
   "metadata": {},
   "outputs": [],
   "source": []
  },
  {
   "cell_type": "code",
   "execution_count": null,
   "metadata": {},
   "outputs": [],
   "source": []
  },
  {
   "cell_type": "code",
   "execution_count": null,
   "metadata": {},
   "outputs": [],
   "source": []
  },
  {
   "cell_type": "code",
   "execution_count": null,
   "metadata": {},
   "outputs": [],
   "source": []
  },
  {
   "cell_type": "markdown",
   "metadata": {},
   "source": [
    "### Problem 5 - Local Beam Search\n",
    "\n",
    "Implement the local beam search algorithm in the cell below."
   ]
  },
  {
   "cell_type": "code",
   "execution_count": null,
   "metadata": {},
   "outputs": [],
   "source": []
  },
  {
   "cell_type": "code",
   "execution_count": null,
   "metadata": {},
   "outputs": [],
   "source": []
  },
  {
   "cell_type": "code",
   "execution_count": null,
   "metadata": {},
   "outputs": [],
   "source": []
  },
  {
   "cell_type": "code",
   "execution_count": null,
   "metadata": {},
   "outputs": [],
   "source": []
  },
  {
   "cell_type": "markdown",
   "metadata": {},
   "source": [
    "### Problem 6 - Genetic Algorithm\n",
    "\n",
    "Implement a genetic algorithm for conducting the search, consistent with the approach discussed in class."
   ]
  },
  {
   "cell_type": "code",
   "execution_count": null,
   "metadata": {},
   "outputs": [],
   "source": []
  },
  {
   "cell_type": "code",
   "execution_count": null,
   "metadata": {},
   "outputs": [],
   "source": []
  },
  {
   "cell_type": "code",
   "execution_count": null,
   "metadata": {},
   "outputs": [],
   "source": []
  },
  {
   "cell_type": "code",
   "execution_count": null,
   "metadata": {},
   "outputs": [],
   "source": []
  },
  {
   "cell_type": "code",
   "execution_count": null,
   "metadata": {},
   "outputs": [],
   "source": []
  },
  {
   "cell_type": "code",
   "execution_count": null,
   "metadata": {},
   "outputs": [],
   "source": []
  },
  {
   "cell_type": "code",
   "execution_count": 13,
   "metadata": {},
   "outputs": [],
   "source": [
    "# let's not use this for now.\n",
    "\n",
    "def max_objective_fn_val(n):\n",
    "    '''\n",
    "    returns the maximum value the objective function can be, assuming we have no \n",
    "    attacking queen pairs on a board of size n x n.  This is the quantity from which \n",
    "    the number of attacking queen pairs will be deducted to determine the objective function\n",
    "    value for a given state (i.e., particular arrangement of queens on the board).\n",
    "    '''\n",
    "    return n * (n - 1) / 2"
   ]
  },
  {
   "cell_type": "code",
   "execution_count": 14,
   "metadata": {},
   "outputs": [
    {
     "data": {
      "text/plain": [
       "45.0"
      ]
     },
     "execution_count": 14,
     "metadata": {},
     "output_type": "execute_result"
    }
   ],
   "source": [
    "max_objective_fn_val(10)"
   ]
  },
  {
   "cell_type": "code",
   "execution_count": 15,
   "metadata": {},
   "outputs": [],
   "source": [
    "# let's not use this for now.\n",
    "\n",
    "def obj_fn_vals(queens):\n",
    "    max_obj_val = max_objective_fn_val(len(queens))\n",
    "    neighbors_attack_pairs = attack_pairs_board(queens)\n",
    "    return max_obj_val - neighbors_attack_pairs\n",
    "    "
   ]
  },
  {
   "cell_type": "code",
   "execution_count": null,
   "metadata": {},
   "outputs": [],
   "source": []
  },
  {
   "cell_type": "code",
   "execution_count": null,
   "metadata": {},
   "outputs": [],
   "source": []
  },
  {
   "cell_type": "code",
   "execution_count": null,
   "metadata": {},
   "outputs": [],
   "source": []
  },
  {
   "cell_type": "code",
   "execution_count": null,
   "metadata": {},
   "outputs": [],
   "source": []
  }
 ],
 "metadata": {
  "kernelspec": {
   "display_name": "Python 3 (ipykernel)",
   "language": "python",
   "name": "python3"
  },
  "language_info": {
   "codemirror_mode": {
    "name": "ipython",
    "version": 3
   },
   "file_extension": ".py",
   "mimetype": "text/x-python",
   "name": "python",
   "nbconvert_exporter": "python",
   "pygments_lexer": "ipython3",
   "version": "3.9.13"
  }
 },
 "nbformat": 4,
 "nbformat_minor": 4
}
