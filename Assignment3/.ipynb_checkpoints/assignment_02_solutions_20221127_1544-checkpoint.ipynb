{
 "cells": [
  {
   "cell_type": "markdown",
   "metadata": {},
   "source": [
    "## CSE 4705: Assignment 03 - Local Search - 8-queens"
   ]
  },
  {
   "cell_type": "markdown",
   "metadata": {},
   "source": [
    "### module: assignment_02_solutions.ipynb\n",
    "Author: Joe Johnson <br>\n",
    "Date: 2022-10-14 <br>\n",
    "<br>\n",
    "Description: This code implements solutions for assignment 02, including the following problems:\n",
    "\n",
    "1.  Problem 1 - implement 5-queens solution using BFS.\n",
    "2.  Problem 2 - implement 5-queens solutions using DFS.\n",
    "3.  Problem 3 - implement local search for the 8-queens problem using hill-climbing, first choice hill climbing, stochastic hill climbing, random restart hill climbing.\n",
    "4.  Problem 4 - Extra Credit - Implement BFS and DFS for the 8-queens problem.\n",
    "5.  Problem 5 - Extra Credit - Implement a sudoku solvers using both BFS and DFS.\n"
   ]
  },
  {
   "cell_type": "code",
   "execution_count": 1,
   "metadata": {},
   "outputs": [],
   "source": [
    "import numpy as np"
   ]
  },
  {
   "cell_type": "code",
   "execution_count": 2,
   "metadata": {},
   "outputs": [],
   "source": [
    "queens = [3, 2, 1, 4, 3, 2, 1, 2]"
   ]
  },
  {
   "cell_type": "code",
   "execution_count": 3,
   "metadata": {},
   "outputs": [],
   "source": [
    "def attack_pairs(queens):\n",
    "    attack_pairs = 0\n",
    "\n",
    "    for i in range(len(queens)):\n",
    "        for j in range(i+1, len(queens)):\n",
    "            attack_squares = [queens[i], queens[i] + (j-i), queens[i] - (j-i)]\n",
    "            if queens[j] in attack_squares:\n",
    "                attack_pairs += 1\n",
    "    return attack_pairs"
   ]
  },
  {
   "cell_type": "code",
   "execution_count": 4,
   "metadata": {},
   "outputs": [
    {
     "data": {
      "text/plain": [
       "17"
      ]
     },
     "execution_count": 4,
     "metadata": {},
     "output_type": "execute_result"
    }
   ],
   "source": [
    "attack_pairs(queens)"
   ]
  },
  {
   "cell_type": "code",
   "execution_count": 5,
   "metadata": {},
   "outputs": [],
   "source": [
    "def attack_pairs_board(queens):\n",
    "    \n",
    "    n = len(queens)\n",
    "\n",
    "    queens_work = queens.copy()\n",
    "\n",
    "    counts = np.zeros((n, n))\n",
    "\n",
    "    for i in range(n):\n",
    "        for j in range(n):\n",
    "            queens_work[i] = j\n",
    "            counts[j, i] = attack_pairs(queens_work)\n",
    "            queens_work = queens.copy()\n",
    "    return counts    "
   ]
  },
  {
   "cell_type": "code",
   "execution_count": 6,
   "metadata": {},
   "outputs": [
    {
     "data": {
      "text/plain": [
       "[3, 2, 1, 4, 3, 2, 1, 2]"
      ]
     },
     "execution_count": 6,
     "metadata": {},
     "output_type": "execute_result"
    }
   ],
   "source": [
    "queens"
   ]
  },
  {
   "cell_type": "code",
   "execution_count": 7,
   "metadata": {
    "scrolled": true
   },
   "outputs": [
    {
     "data": {
      "text/plain": [
       "array([[14., 14., 13., 17., 12., 14., 12., 18.],\n",
       "       [18., 14., 17., 15., 15., 14., 17., 16.],\n",
       "       [17., 17., 16., 18., 15., 17., 15., 17.],\n",
       "       [17., 14., 17., 15., 17., 14., 16., 16.],\n",
       "       [15., 14., 14., 17., 13., 16., 13., 16.],\n",
       "       [14., 12., 18., 13., 15., 12., 14., 14.],\n",
       "       [14., 16., 13., 15., 12., 14., 12., 16.],\n",
       "       [18., 12., 14., 13., 13., 12., 14., 14.]])"
      ]
     },
     "execution_count": 7,
     "metadata": {},
     "output_type": "execute_result"
    }
   ],
   "source": [
    "attack_pairs_board(queens)"
   ]
  },
  {
   "cell_type": "code",
   "execution_count": 8,
   "metadata": {},
   "outputs": [
    {
     "data": {
      "text/plain": [
       "array([[5., 4., 6., 6., 5., 8., 4., 6.],\n",
       "       [4., 5., 5., 5., 4., 6., 5., 6.],\n",
       "       [2., 3., 4., 6., 5., 6., 4., 3.],\n",
       "       [4., 4., 6., 6., 6., 4., 5., 5.],\n",
       "       [3., 6., 4., 4., 5., 5., 5., 4.],\n",
       "       [4., 7., 4., 6., 5., 8., 6., 6.],\n",
       "       [3., 5., 5., 4., 4., 4., 4., 4.],\n",
       "       [5., 6., 6., 4., 6., 6., 5., 4.]])"
      ]
     },
     "execution_count": 8,
     "metadata": {},
     "output_type": "execute_result"
    }
   ],
   "source": [
    "queens = [5, 0, 5, 7, 1, 3, 0, 7]\n",
    "attack_pairs_board(queens)"
   ]
  },
  {
   "cell_type": "code",
   "execution_count": null,
   "metadata": {},
   "outputs": [],
   "source": []
  },
  {
   "cell_type": "code",
   "execution_count": null,
   "metadata": {},
   "outputs": [],
   "source": []
  },
  {
   "cell_type": "code",
   "execution_count": null,
   "metadata": {},
   "outputs": [],
   "source": []
  },
  {
   "cell_type": "code",
   "execution_count": null,
   "metadata": {},
   "outputs": [],
   "source": []
  },
  {
   "cell_type": "code",
   "execution_count": null,
   "metadata": {},
   "outputs": [],
   "source": []
  },
  {
   "cell_type": "code",
   "execution_count": null,
   "metadata": {},
   "outputs": [],
   "source": []
  },
  {
   "cell_type": "code",
   "execution_count": null,
   "metadata": {},
   "outputs": [],
   "source": []
  },
  {
   "cell_type": "code",
   "execution_count": null,
   "metadata": {},
   "outputs": [],
   "source": []
  },
  {
   "cell_type": "code",
   "execution_count": null,
   "metadata": {},
   "outputs": [],
   "source": []
  },
  {
   "cell_type": "code",
   "execution_count": null,
   "metadata": {},
   "outputs": [],
   "source": []
  },
  {
   "cell_type": "code",
   "execution_count": null,
   "metadata": {},
   "outputs": [],
   "source": []
  },
  {
   "cell_type": "code",
   "execution_count": 9,
   "metadata": {},
   "outputs": [],
   "source": [
    "# let's not use this for now.\n",
    "\n",
    "def max_objective_fn_val(n):\n",
    "    '''\n",
    "    returns the maximum value the objective function can be, assuming we have no \n",
    "    attacking queen pairs on a board of size n x n.  This is the quantity from which \n",
    "    the number of attacking queen pairs will be deducted to determine the objective function\n",
    "    value for a given state (i.e., particular arrangement of queens on the board).\n",
    "    '''\n",
    "    return n * (n - 1) / 2"
   ]
  },
  {
   "cell_type": "code",
   "execution_count": 10,
   "metadata": {},
   "outputs": [
    {
     "data": {
      "text/plain": [
       "45.0"
      ]
     },
     "execution_count": 10,
     "metadata": {},
     "output_type": "execute_result"
    }
   ],
   "source": [
    "max_objective_fn_val(10)"
   ]
  },
  {
   "cell_type": "code",
   "execution_count": 11,
   "metadata": {},
   "outputs": [],
   "source": [
    "# let's not use this for now.\n",
    "\n",
    "def obj_fn_vals(queens):\n",
    "    max_obj_val = max_objective_fn_val(len(queens))\n",
    "    neighbors_attack_pairs = attack_pairs_board(queens)\n",
    "    return max_obj_val - neighbors_attack_pairs\n",
    "    "
   ]
  },
  {
   "cell_type": "code",
   "execution_count": 12,
   "metadata": {},
   "outputs": [
    {
     "data": {
      "text/plain": [
       "array([[14., 14., 15., 11., 16., 14., 16., 10.],\n",
       "       [10., 14., 11., 13., 13., 14., 11., 12.],\n",
       "       [11., 11., 12., 10., 13., 11., 13., 11.],\n",
       "       [11., 14., 11., 13., 11., 14., 12., 12.],\n",
       "       [13., 14., 14., 11., 15., 12., 15., 12.],\n",
       "       [14., 16., 10., 15., 13., 16., 14., 14.],\n",
       "       [14., 12., 15., 13., 16., 14., 16., 12.],\n",
       "       [10., 16., 14., 15., 15., 16., 14., 14.]])"
      ]
     },
     "execution_count": 12,
     "metadata": {},
     "output_type": "execute_result"
    }
   ],
   "source": [
    "queens = [3, 2, 1, 4, 3, 2, 1, 2]\n",
    "objective_fn_vals = obj_fn_vals(queens)\n",
    "objective_fn_vals"
   ]
  },
  {
   "cell_type": "code",
   "execution_count": 13,
   "metadata": {},
   "outputs": [
    {
     "data": {
      "text/plain": [
       "array([[14., 14., 13., 17., 12., 14., 12., 18.],\n",
       "       [18., 14., 17., 15., 15., 14., 17., 16.],\n",
       "       [17., 17., 16., 18., 15., 17., 15., 17.],\n",
       "       [17., 14., 17., 15., 17., 14., 16., 16.],\n",
       "       [15., 14., 14., 17., 13., 16., 13., 16.],\n",
       "       [14., 12., 18., 13., 15., 12., 14., 14.],\n",
       "       [14., 16., 13., 15., 12., 14., 12., 16.],\n",
       "       [18., 12., 14., 13., 13., 12., 14., 14.]])"
      ]
     },
     "execution_count": 13,
     "metadata": {},
     "output_type": "execute_result"
    }
   ],
   "source": [
    "queens = [3, 2, 1, 4, 3, 2, 1, 2]\n",
    "neighbors = attack_pairs_board(queens)\n",
    "neighbors"
   ]
  },
  {
   "cell_type": "code",
   "execution_count": 14,
   "metadata": {},
   "outputs": [
    {
     "data": {
      "text/plain": [
       "array([0, 5, 0, 5, 0, 5, 0, 5])"
      ]
     },
     "execution_count": 14,
     "metadata": {},
     "output_type": "execute_result"
    }
   ],
   "source": [
    "neighbors.argmin(axis=0)"
   ]
  },
  {
   "cell_type": "code",
   "execution_count": 15,
   "metadata": {},
   "outputs": [],
   "source": [
    "x = neighbors.flatten()"
   ]
  },
  {
   "cell_type": "code",
   "execution_count": 16,
   "metadata": {},
   "outputs": [
    {
     "data": {
      "text/plain": [
       "array([14., 14., 13., 17., 12., 14., 12., 18., 18., 14., 17., 15., 15.,\n",
       "       14., 17., 16., 17., 17., 16., 18., 15., 17., 15., 17., 17., 14.,\n",
       "       17., 15., 17., 14., 16., 16., 15., 14., 14., 17., 13., 16., 13.,\n",
       "       16., 14., 12., 18., 13., 15., 12., 14., 14., 14., 16., 13., 15.,\n",
       "       12., 14., 12., 16., 18., 12., 14., 13., 13., 12., 14., 14.])"
      ]
     },
     "execution_count": 16,
     "metadata": {},
     "output_type": "execute_result"
    }
   ],
   "source": [
    "x"
   ]
  },
  {
   "cell_type": "code",
   "execution_count": 17,
   "metadata": {},
   "outputs": [
    {
     "data": {
      "text/plain": [
       "12.0"
      ]
     },
     "execution_count": 17,
     "metadata": {},
     "output_type": "execute_result"
    }
   ],
   "source": [
    "neighbors.min()"
   ]
  },
  {
   "cell_type": "code",
   "execution_count": 18,
   "metadata": {},
   "outputs": [
    {
     "data": {
      "text/plain": [
       "(array([0, 0, 5, 5, 6, 6, 7, 7]), array([4, 6, 1, 5, 4, 6, 1, 5]))"
      ]
     },
     "execution_count": 18,
     "metadata": {},
     "output_type": "execute_result"
    }
   ],
   "source": [
    "np.where(neighbors == 12)"
   ]
  },
  {
   "cell_type": "code",
   "execution_count": 19,
   "metadata": {},
   "outputs": [
    {
     "name": "stdout",
     "output_type": "stream",
     "text": [
      "queens: [3, 2, 1, 4, 3, 2, 1, 2]\n",
      "current_attack_pairs: 17\n",
      "attack_pairs_neighbors: \n",
      "[[14. 14. 13. 17. 12. 14. 12. 18.]\n",
      " [18. 14. 17. 15. 15. 14. 17. 16.]\n",
      " [17. 17. 16. 18. 15. 17. 15. 17.]\n",
      " [17. 14. 17. 15. 17. 14. 16. 16.]\n",
      " [15. 14. 14. 17. 13. 16. 13. 16.]\n",
      " [14. 12. 18. 13. 15. 12. 14. 14.]\n",
      " [14. 16. 13. 15. 12. 14. 12. 16.]\n",
      " [18. 12. 14. 13. 13. 12. 14. 14.]]\n",
      "attack_pairs_neighbors_min: 12.0\n",
      "min_index: 4\n",
      "row_min: 0\n",
      "col_min: 4\n",
      "queens: [3, 2, 1, 4, 0, 2, 1, 2]\n",
      "current_attack_pairs: 12\n",
      "current_attack_pairs: 12\n",
      "attack_pairs_neighbors: \n",
      "[[11.  9. 10. 14. 12. 11.  9. 13.]\n",
      " [14.  9. 12. 12. 15. 11. 12. 11.]\n",
      " [13. 12. 13. 13. 15. 12. 12. 12.]\n",
      " [12.  9. 12. 10. 17.  9. 11. 11.]\n",
      " [12.  9. 10. 12. 13. 11.  9. 11.]\n",
      " [10.  7. 13.  9. 15.  8.  9.  9.]\n",
      " [10. 10.  9. 11. 12. 10.  8. 10.]\n",
      " [13.  7. 10.  9. 13.  8. 10.  9.]]\n",
      "attack_pairs_neighbors_min: 7.0\n",
      "min_index: 41\n",
      "row_min: 5\n",
      "col_min: 1\n",
      "queens: [3, 5, 1, 4, 0, 2, 1, 2]\n",
      "current_attack_pairs: 7\n",
      "current_attack_pairs: 7\n",
      "attack_pairs_neighbors: \n",
      "[[ 7.  9.  6.  9.  7.  7.  5.  9.]\n",
      " [ 9.  9.  7.  8. 10.  8.  7.  7.]\n",
      " [ 8. 12.  8.  8. 10.  7.  6.  7.]\n",
      " [ 7.  9.  7.  7. 12.  5.  6.  7.]\n",
      " [ 9.  9.  7.  7.  8.  7.  4.  7.]\n",
      " [ 7.  7. 10.  6. 10.  5.  5.  6.]\n",
      " [ 7. 10.  6.  7.  7.  5.  3.  6.]\n",
      " [ 9.  7.  6.  6.  8.  4.  4.  5.]]\n",
      "attack_pairs_neighbors_min: 3.0\n",
      "min_index: 54\n",
      "row_min: 6\n",
      "col_min: 6\n",
      "queens: [3, 5, 1, 4, 0, 2, 6, 2]\n",
      "current_attack_pairs: 3\n",
      "current_attack_pairs: 3\n",
      "attack_pairs_neighbors: \n",
      "[[4. 5. 3. 6. 3. 3. 5. 5.]\n",
      " [4. 5. 3. 4. 5. 4. 7. 3.]\n",
      " [4. 8. 6. 5. 6. 3. 6. 3.]\n",
      " [3. 5. 4. 5. 7. 2. 6. 4.]\n",
      " [5. 5. 4. 3. 5. 4. 4. 4.]\n",
      " [3. 3. 6. 3. 6. 3. 5. 4.]\n",
      " [4. 6. 4. 5. 4. 3. 3. 4.]\n",
      " [4. 3. 3. 3. 4. 2. 4. 3.]]\n",
      "attack_pairs_neighbors_min: 2.0\n",
      "min_index: 29\n",
      "row_min: 3\n",
      "col_min: 5\n",
      "queens: [3, 5, 1, 4, 0, 3, 6, 2]\n",
      "current_attack_pairs: 2\n"
     ]
    }
   ],
   "source": [
    "queens = [3, 2, 1, 4, 3, 2, 1, 2]\n",
    "print(f'queens: {queens}')\n",
    "\n",
    "for i in range(4):\n",
    "\n",
    "    current_attack_pairs = attack_pairs(queens)\n",
    "    print(f'current_attack_pairs: {current_attack_pairs}')\n",
    "\n",
    "    attack_pairs_neighbors = attack_pairs_board(queens)\n",
    "    print(f'attack_pairs_neighbors: \\n{attack_pairs_neighbors}')\n",
    "\n",
    "    attack_pairs_neighbors_min = attack_pairs_neighbors.min()\n",
    "    print(f'attack_pairs_neighbors_min: {attack_pairs_neighbors_min}')\n",
    "\n",
    "    if attack_pairs_neighbors_min < current_attack_pairs:\n",
    "\n",
    "        min_index = attack_pairs_neighbors.argmin()\n",
    "        print(f'min_index: {min_index}')\n",
    "\n",
    "        n = len(queens)\n",
    "\n",
    "        row_min = min_index // n\n",
    "        col_min = min_index % n\n",
    "        print(f'row_min: {row_min}')\n",
    "        print(f'col_min: {col_min}')\n",
    "\n",
    "        queens[col_min] = row_min\n",
    "        print(f'queens: {queens}')\n",
    "\n",
    "        current_attack_pairs = attack_pairs(queens)\n",
    "        print(f'current_attack_pairs: {current_attack_pairs}')\n",
    "\n",
    "    else:\n",
    "\n",
    "        print(f'local min reached: {queens}')\n"
   ]
  },
  {
   "cell_type": "code",
   "execution_count": 20,
   "metadata": {},
   "outputs": [
    {
     "name": "stdout",
     "output_type": "stream",
     "text": [
      "queens: [0 7 2 1 6 5 1 4]\n",
      "current_attack_pairs: 6\n",
      "attack_pairs_neighbors: \n",
      "[[ 6.  7.  5.  6.  8.  5.  6.  8.]\n",
      " [ 6. 11.  5.  6.  8.  5.  6.  9.]\n",
      " [ 6.  7.  6.  5.  7.  6.  7.  8.]\n",
      " [ 4.  9.  3.  7.  6.  5.  6.  8.]\n",
      " [ 7.  7.  5.  6. 10.  4.  9.  6.]\n",
      " [ 5.  7.  5.  7.  6.  6.  7.  8.]\n",
      " [ 6.  8.  5.  5.  6.  5.  9.  7.]\n",
      " [ 6.  6.  4.  7.  7.  5.  6. 10.]]\n",
      "attack_pairs_neighbors_min: 3.0\n",
      "min_index: 26\n",
      "row_min: 3\n",
      "col_min: 2\n",
      "queens: [0 7 3 1 6 5 1 4]\n",
      "current_attack_pairs: 3\n",
      "current_attack_pairs: 3\n",
      "attack_pairs_neighbors: \n",
      "[[3. 4. 5. 4. 4. 4. 3. 5.]\n",
      " [5. 7. 5. 3. 6. 3. 3. 6.]\n",
      " [3. 4. 6. 3. 3. 3. 3. 4.]\n",
      " [3. 6. 3. 5. 4. 4. 4. 6.]\n",
      " [4. 5. 5. 5. 6. 2. 6. 3.]\n",
      " [4. 4. 5. 5. 4. 3. 4. 5.]\n",
      " [4. 5. 5. 3. 3. 4. 5. 4.]\n",
      " [4. 3. 4. 5. 4. 3. 4. 6.]]\n",
      "attack_pairs_neighbors_min: 2.0\n",
      "min_index: 37\n",
      "row_min: 4\n",
      "col_min: 5\n",
      "queens: [0 7 3 1 6 4 1 4]\n",
      "current_attack_pairs: 2\n",
      "current_attack_pairs: 2\n",
      "attack_pairs_neighbors: \n",
      "[[2. 4. 4. 3. 4. 4. 2. 3.]\n",
      " [5. 5. 5. 2. 6. 3. 2. 4.]\n",
      " [3. 3. 4. 3. 3. 3. 2. 3.]\n",
      " [3. 5. 2. 3. 5. 4. 4. 3.]\n",
      " [5. 5. 5. 5. 6. 2. 5. 2.]\n",
      " [3. 2. 3. 3. 4. 3. 3. 2.]\n",
      " [4. 4. 4. 3. 2. 4. 3. 3.]\n",
      " [4. 2. 4. 3. 4. 3. 3. 3.]]\n",
      "attack_pairs_neighbors_min: 2.0\n",
      "local min reached: [0 7 3 1 6 4 1 4]\n"
     ]
    }
   ],
   "source": [
    "queens = np.random.randint(8, size=8)\n",
    "print(f'queens: {queens}')\n",
    "\n",
    "for i in range(10):\n",
    "\n",
    "    current_attack_pairs = attack_pairs(queens)\n",
    "    print(f'current_attack_pairs: {current_attack_pairs}')\n",
    "\n",
    "    attack_pairs_neighbors = attack_pairs_board(queens)\n",
    "    print(f'attack_pairs_neighbors: \\n{attack_pairs_neighbors}')\n",
    "\n",
    "    attack_pairs_neighbors_min = attack_pairs_neighbors.min()\n",
    "    print(f'attack_pairs_neighbors_min: {attack_pairs_neighbors_min}')\n",
    "\n",
    "    if attack_pairs_neighbors_min < current_attack_pairs:\n",
    "\n",
    "        min_index = attack_pairs_neighbors.argmin()\n",
    "        print(f'min_index: {min_index}')\n",
    "\n",
    "        n = len(queens)\n",
    "\n",
    "        row_min = min_index // n\n",
    "        col_min = min_index % n\n",
    "        print(f'row_min: {row_min}')\n",
    "        print(f'col_min: {col_min}')\n",
    "\n",
    "        queens[col_min] = row_min\n",
    "        print(f'queens: {queens}')\n",
    "\n",
    "        current_attack_pairs = attack_pairs(queens)\n",
    "        print(f'current_attack_pairs: {current_attack_pairs}')\n",
    "\n",
    "    else:\n",
    "\n",
    "        print(f'local min reached: {queens}')\n",
    "        break;\n"
   ]
  },
  {
   "cell_type": "code",
   "execution_count": 21,
   "metadata": {},
   "outputs": [
    {
     "name": "stdout",
     "output_type": "stream",
     "text": [
      "Success 1:  [5 2 4 7 0 3 1 6]\n",
      "Success 2:  [1 5 0 6 3 7 2 4]\n",
      "Success 3:  [5 3 6 0 2 4 1 7]\n",
      "Success 4:  [5 2 0 7 3 1 6 4]\n",
      "Success 5:  [5 2 6 1 3 7 0 4]\n",
      "Success 6:  [3 5 0 4 1 7 2 6]\n",
      "Success 7:  [4 6 1 5 2 0 7 3]\n",
      "Success 8:  [4 6 0 2 7 5 3 1]\n",
      "Success 9:  [2 5 7 0 3 6 4 1]\n",
      "Success 10:  [1 4 6 3 0 7 5 2]\n",
      "Success 11:  [4 6 1 5 2 0 7 3]\n",
      "Success 12:  [4 1 3 6 2 7 5 0]\n",
      "Success 13:  [0 5 7 2 6 3 1 4]\n",
      "Success 14:  [3 1 6 2 5 7 4 0]\n",
      "Success 15:  [2 0 6 4 7 1 3 5]\n",
      "Success 16:  [3 7 0 2 5 1 6 4]\n",
      "Success 17:  [2 4 6 0 3 1 7 5]\n",
      "Success 18:  [2 6 1 7 5 3 0 4]\n",
      "Success 19:  [2 5 7 1 3 0 6 4]\n",
      "Success 20:  [6 1 3 0 7 4 2 5]\n",
      "Success 21:  [4 7 3 0 6 1 5 2]\n",
      "Success 22:  [5 2 0 7 4 1 3 6]\n",
      "Success 23:  [1 7 5 0 2 4 6 3]\n",
      "Success 24:  [5 3 6 0 7 1 4 2]\n",
      "Success 25:  [6 1 3 0 7 4 2 5]\n",
      "Success 26:  [4 6 3 0 2 7 5 1]\n",
      "Success 27:  [4 1 7 0 3 6 2 5]\n",
      "Success 28:  [2 4 6 0 3 1 7 5]\n",
      "Success 29:  [4 6 1 5 2 0 7 3]\n",
      "Success 30:  [3 0 4 7 1 6 2 5]\n",
      "Success 31:  [5 2 0 7 4 1 3 6]\n",
      "Success 32:  [4 0 3 5 7 1 6 2]\n",
      "Success 33:  [2 5 3 0 7 4 6 1]\n",
      "Success 34:  [4 7 3 0 2 5 1 6]\n",
      "Success 35:  [4 2 0 6 1 7 5 3]\n",
      "Success 36:  [2 4 1 7 0 6 3 5]\n",
      "Success 37:  [2 4 1 7 5 3 6 0]\n",
      "Success 38:  [1 4 6 0 2 7 5 3]\n",
      "Success 39:  [2 4 1 7 0 6 3 5]\n",
      "Success 40:  [1 3 5 7 2 0 6 4]\n",
      "Success 41:  [4 6 1 5 2 0 7 3]\n",
      "Success 42:  [3 1 7 4 6 0 2 5]\n",
      "Success 43:  [6 3 1 7 5 0 2 4]\n",
      "Success 44:  [1 6 2 5 7 4 0 3]\n",
      "Success 45:  [5 2 6 3 0 7 1 4]\n",
      "Success 46:  [3 6 4 2 0 5 7 1]\n",
      "Success 47:  [4 6 0 3 1 7 5 2]\n",
      "Success 48:  [1 6 4 7 0 3 5 2]\n",
      "Success 49:  [3 6 4 1 5 0 2 7]\n",
      "Success 50:  [3 1 6 2 5 7 4 0]\n",
      "Success 51:  [1 4 6 3 0 7 5 2]\n",
      "Success 52:  [2 4 7 3 0 6 1 5]\n",
      "Success 53:  [2 4 7 3 0 6 1 5]\n",
      "Success 54:  [5 2 0 6 4 7 1 3]\n",
      "Success 55:  [2 0 6 4 7 1 3 5]\n",
      "Success 56:  [2 5 1 6 0 3 7 4]\n",
      "Success 57:  [4 1 3 6 2 7 5 0]\n",
      "Success 58:  [5 2 0 7 3 1 6 4]\n",
      "Success 59:  [3 7 4 2 0 6 1 5]\n",
      "Success 60:  [0 5 7 2 6 3 1 4]\n",
      "Success 61:  [3 7 0 4 6 1 5 2]\n",
      "Success 62:  [5 3 6 0 7 1 4 2]\n",
      "Success 63:  [5 2 4 7 0 3 1 6]\n",
      "Success 64:  [4 1 3 6 2 7 5 0]\n",
      "Success 65:  [3 7 0 4 6 1 5 2]\n",
      "Success 66:  [3 5 7 1 6 0 2 4]\n",
      "Success 67:  [3 6 4 2 0 5 7 1]\n",
      "Success 68:  [2 5 1 6 4 0 7 3]\n",
      "Success 69:  [5 2 4 6 0 3 1 7]\n",
      "Success 70:  [4 6 1 3 7 0 2 5]\n",
      "Success 71:  [6 3 1 4 7 0 2 5]\n",
      "Success 72:  [3 7 4 2 0 6 1 5]\n",
      "Success 73:  [6 4 2 0 5 7 1 3]\n",
      "Success 74:  [5 3 6 0 2 4 1 7]\n",
      "Success 75:  [3 6 4 1 5 0 2 7]\n",
      "Success 76:  [2 4 7 3 0 6 1 5]\n",
      "Success 77:  [3 6 2 7 1 4 0 5]\n",
      "Success 78:  [6 1 5 2 0 3 7 4]\n",
      "Success 79:  [2 4 1 7 5 3 6 0]\n",
      "Success 80:  [3 7 0 4 6 1 5 2]\n",
      "Success 81:  [7 1 3 0 6 4 2 5]\n",
      "Success 82:  [2 6 1 7 5 3 0 4]\n",
      "Success 83:  [2 5 3 1 7 4 6 0]\n",
      "Success 84:  [5 2 6 3 0 7 1 4]\n",
      "Success 85:  [5 3 6 0 7 1 4 2]\n",
      "Success 86:  [5 2 6 1 3 7 0 4]\n",
      "Success 87:  [4 1 5 0 6 3 7 2]\n",
      "Success 88:  [5 3 0 4 7 1 6 2]\n",
      "Success 89:  [4 6 0 2 7 5 3 1]\n",
      "Success 90:  [3 1 7 5 0 2 4 6]\n",
      "Success 91:  [1 4 6 3 0 7 5 2]\n",
      "Success 92:  [6 3 1 4 7 0 2 5]\n",
      "Success 93:  [3 5 7 1 6 0 2 4]\n",
      "Success 94:  [1 7 5 0 2 4 6 3]\n",
      "Success 95:  [5 3 6 0 2 4 1 7]\n",
      "Success 96:  [2 5 3 1 7 4 6 0]\n",
      "Success 97:  [2 4 6 0 3 1 7 5]\n",
      "Success 98:  [1 4 6 0 2 7 5 3]\n",
      "Success 99:  [3 5 0 4 1 7 2 6]\n",
      "Success 100:  [4 6 3 0 2 7 5 1]\n",
      "Success 101:  [6 2 0 5 7 4 1 3]\n",
      "Success 102:  [2 4 1 7 5 3 6 0]\n",
      "Success 103:  [2 6 1 7 5 3 0 4]\n",
      "Success 104:  [5 2 4 7 0 3 1 6]\n",
      "Success 105:  [4 2 0 5 7 1 3 6]\n",
      "Success 106:  [4 6 1 3 7 0 2 5]\n",
      "Success 107:  [1 4 6 0 2 7 5 3]\n",
      "Success 108:  [3 6 2 7 1 4 0 5]\n",
      "Success 109:  [4 0 7 3 1 6 2 5]\n",
      "Success 110:  [3 5 7 1 6 0 2 4]\n",
      "Success 111:  [3 1 6 2 5 7 4 0]\n",
      "Success 112:  [7 2 0 5 1 4 6 3]\n",
      "Success 113:  [3 5 7 2 0 6 4 1]\n",
      "Success 114:  [6 2 7 1 4 0 5 3]\n",
      "Success 115:  [5 3 0 4 7 1 6 2]\n",
      "Success 116:  [3 5 7 2 0 6 4 1]\n",
      "Success 117:  [3 1 6 4 0 7 5 2]\n",
      "Success 118:  [1 7 5 0 2 4 6 3]\n",
      "Success 119:  [2 5 7 0 3 6 4 1]\n",
      "Success 120:  [5 1 6 0 2 4 7 3]\n",
      "Success 121:  [3 1 4 7 5 0 2 6]\n",
      "Success 122:  [4 6 0 3 1 7 5 2]\n",
      "Success 123:  [5 1 6 0 3 7 4 2]\n",
      "Success 124:  [3 1 4 7 5 0 2 6]\n",
      "Success 125:  [7 3 0 2 5 1 6 4]\n",
      "Success 126:  [3 0 4 7 1 6 2 5]\n",
      "Success 127:  [1 3 5 7 2 0 6 4]\n",
      "Success 128:  [5 3 6 0 2 4 1 7]\n",
      "Success 129:  [6 3 1 4 7 0 2 5]\n",
      "Success 130:  [5 2 6 3 0 7 1 4]\n",
      "Success 131:  [1 4 6 0 2 7 5 3]\n",
      "Success 132:  [2 4 7 3 0 6 1 5]\n",
      "Success 133:  [6 0 2 7 5 3 1 4]\n",
      "Success 134:  [4 7 3 0 6 1 5 2]\n",
      "Success 135:  [5 1 6 0 2 4 7 3]\n",
      "Success 136:  [3 5 0 4 1 7 2 6]\n",
      "Number of successes = 136\n"
     ]
    }
   ],
   "source": [
    "num_trials = 1000\n",
    "num_successes = 0\n",
    "\n",
    "for i in range(num_trials):\n",
    "\n",
    "    queens = np.random.randint(8, size=8)\n",
    "    #print(f'queens: {queens}')\n",
    "\n",
    "    while True:\n",
    "\n",
    "        current_attack_pairs = attack_pairs(queens)\n",
    "        #print(f'current_attack_pairs: {current_attack_pairs}')\n",
    "\n",
    "        attack_pairs_neighbors = attack_pairs_board(queens)\n",
    "        #print(f'attack_pairs_neighbors: \\n{attack_pairs_neighbors}')\n",
    "\n",
    "        attack_pairs_neighbors_min = attack_pairs_neighbors.min()\n",
    "        #print(f'attack_pairs_neighbors_min: {attack_pairs_neighbors_min}')\n",
    "\n",
    "        if current_attack_pairs == 0:\n",
    "            \n",
    "            num_successes += 1\n",
    "            print(f'Success {num_successes}:  {queens}')\n",
    "            break;\n",
    "        \n",
    "        elif attack_pairs_neighbors_min < current_attack_pairs:\n",
    "\n",
    "            min_indexes = np.where(attack_pairs_neighbors.flatten() == attack_pairs_neighbors_min)[0]\n",
    "            #print(f'min_indexes: {min_indexes}')\n",
    "\n",
    "            # pick one of the min neighbors at random.\n",
    "            choice = np.random.randint(len(min_indexes))\n",
    "\n",
    "            min_index = min_indexes[choice]\n",
    "            #print(f'min_index: {min_index}')\n",
    "\n",
    "            n = len(queens)\n",
    "\n",
    "            row_min = min_index // n\n",
    "            col_min = min_index % n\n",
    "            #print(f'row_min: {row_min}')\n",
    "            #print(f'col_min: {col_min}')\n",
    "\n",
    "            queens[col_min] = row_min\n",
    "            #print(f'queens: {queens}')\n",
    "\n",
    "            current_attack_pairs = attack_pairs(queens)\n",
    "            #print(f'current_attack_pairs: {current_attack_pairs}')\n",
    "\n",
    "        else:\n",
    "\n",
    "            #print(f'local min reached: {queens}')\n",
    "            break;\n",
    "            \n",
    "print(f'Number of successes = {num_successes}')\n"
   ]
  },
  {
   "cell_type": "code",
   "execution_count": 22,
   "metadata": {},
   "outputs": [
    {
     "name": "stdout",
     "output_type": "stream",
     "text": [
      "Success 1:  [4 6 3 0 2 7 5 1]\n",
      "Success 2:  [6 2 0 5 7 4 1 3]\n",
      "Success 3:  [2 5 1 6 4 0 7 3]\n",
      "Success 4:  [1 6 4 7 0 3 5 2]\n",
      "Success 5:  [4 7 3 0 2 5 1 6]\n",
      "Success 6:  [1 5 0 6 3 7 2 4]\n",
      "Success 7:  [2 5 1 6 4 0 7 3]\n",
      "Success 8:  [6 1 5 2 0 3 7 4]\n",
      "Success 9:  [6 0 2 7 5 3 1 4]\n",
      "Success 10:  [3 7 4 2 0 6 1 5]\n",
      "Success 11:  [5 2 0 7 4 1 3 6]\n",
      "Success 12:  [2 5 7 0 3 6 4 1]\n",
      "Success 13:  [2 4 6 0 3 1 7 5]\n",
      "Success 14:  [2 0 6 4 7 1 3 5]\n",
      "Success 15:  [1 7 5 0 2 4 6 3]\n",
      "Success 16:  [1 3 5 7 2 0 6 4]\n",
      "Success 17:  [3 6 4 1 5 0 2 7]\n",
      "Success 18:  [2 5 7 0 3 6 4 1]\n",
      "Success 19:  [1 5 7 2 0 3 6 4]\n",
      "Success 20:  [6 2 0 5 7 4 1 3]\n",
      "Success 21:  [2 7 3 6 0 5 1 4]\n",
      "Success 22:  [5 2 6 3 0 7 1 4]\n",
      "Success 23:  [2 5 7 1 3 0 6 4]\n",
      "Success 24:  [2 6 1 7 5 3 0 4]\n",
      "Success 25:  [5 2 6 1 3 7 0 4]\n",
      "Success 26:  [2 5 1 6 4 0 7 3]\n",
      "Success 27:  [4 1 3 6 2 7 5 0]\n",
      "Success 28:  [3 6 4 1 5 0 2 7]\n",
      "Success 29:  [2 4 1 7 0 6 3 5]\n",
      "Success 30:  [2 4 7 3 0 6 1 5]\n",
      "Success 31:  [0 4 7 5 2 6 1 3]\n",
      "Success 32:  [4 0 7 3 1 6 2 5]\n",
      "Success 33:  [6 1 3 0 7 4 2 5]\n",
      "Success 34:  [4 2 0 5 7 1 3 6]\n",
      "Success 35:  [0 5 7 2 6 3 1 4]\n",
      "Success 36:  [1 6 2 5 7 4 0 3]\n",
      "Success 37:  [5 1 6 0 2 4 7 3]\n",
      "Success 38:  [7 2 0 5 1 4 6 3]\n",
      "Success 39:  [5 2 4 6 0 3 1 7]\n",
      "Success 40:  [2 6 1 7 4 0 3 5]\n",
      "Success 41:  [3 1 7 5 0 2 4 6]\n",
      "Success 42:  [4 6 0 3 1 7 5 2]\n",
      "Success 43:  [2 4 7 3 0 6 1 5]\n",
      "Success 44:  [3 5 0 4 1 7 2 6]\n",
      "Success 45:  [5 3 6 0 7 1 4 2]\n",
      "Success 46:  [4 7 3 0 6 1 5 2]\n",
      "Success 47:  [7 1 3 0 6 4 2 5]\n",
      "Success 48:  [3 6 4 1 5 0 2 7]\n",
      "Success 49:  [7 1 3 0 6 4 2 5]\n",
      "Success 50:  [3 7 0 2 5 1 6 4]\n",
      "Success 51:  [3 1 7 4 6 0 2 5]\n",
      "Success 52:  [5 2 0 6 4 7 1 3]\n",
      "Success 53:  [4 0 7 5 2 6 1 3]\n",
      "Success 54:  [4 1 3 5 7 2 0 6]\n",
      "Success 55:  [6 2 0 5 7 4 1 3]\n",
      "Success 56:  [5 2 6 1 3 7 0 4]\n",
      "Success 57:  [4 6 0 3 1 7 5 2]\n",
      "Success 58:  [3 6 4 2 0 5 7 1]\n",
      "Success 59:  [5 2 6 3 0 7 1 4]\n",
      "Success 60:  [4 2 0 6 1 7 5 3]\n",
      "Success 61:  [5 0 4 1 7 2 6 3]\n",
      "Success 62:  [3 1 6 2 5 7 0 4]\n",
      "Success 63:  [5 0 4 1 7 2 6 3]\n",
      "Success 64:  [5 1 6 0 2 4 7 3]\n",
      "Success 65:  [2 7 3 6 0 5 1 4]\n",
      "Success 66:  [7 1 4 2 0 6 3 5]\n",
      "Success 67:  [2 5 3 0 7 4 6 1]\n",
      "Success 68:  [3 1 7 5 0 2 4 6]\n",
      "Success 69:  [6 1 3 0 7 4 2 5]\n",
      "Success 70:  [4 6 1 5 2 0 7 3]\n",
      "Success 71:  [4 1 5 0 6 3 7 2]\n",
      "Success 72:  [4 1 3 6 2 7 5 0]\n",
      "Success 73:  [2 5 1 4 7 0 6 3]\n",
      "Success 74:  [2 5 1 6 4 0 7 3]\n",
      "Success 75:  [2 4 6 0 3 1 7 5]\n",
      "Success 76:  [5 2 6 1 3 7 0 4]\n",
      "Success 77:  [5 3 0 4 7 1 6 2]\n",
      "Success 78:  [4 1 3 6 2 7 5 0]\n",
      "Success 79:  [5 2 0 6 4 7 1 3]\n",
      "Success 80:  [7 2 0 5 1 4 6 3]\n",
      "Success 81:  [4 6 0 2 7 5 3 1]\n",
      "Success 82:  [4 7 3 0 2 5 1 6]\n",
      "Success 83:  [5 7 1 3 0 6 4 2]\n",
      "Success 84:  [7 1 4 2 0 6 3 5]\n",
      "Success 85:  [5 3 0 4 7 1 6 2]\n",
      "Success 86:  [3 1 6 2 5 7 4 0]\n",
      "Success 87:  [4 7 3 0 2 5 1 6]\n",
      "Success 88:  [7 2 0 5 1 4 6 3]\n",
      "Success 89:  [5 3 1 7 4 6 0 2]\n",
      "Success 90:  [4 0 7 5 2 6 1 3]\n",
      "Success 91:  [3 1 7 4 6 0 2 5]\n",
      "Success 92:  [5 2 0 7 4 1 3 6]\n",
      "Success 93:  [2 5 1 6 4 0 7 3]\n",
      "Success 94:  [3 6 2 7 1 4 0 5]\n",
      "Success 95:  [0 6 4 7 1 3 5 2]\n",
      "Success 96:  [4 1 7 0 3 6 2 5]\n",
      "Success 97:  [2 5 7 1 3 0 6 4]\n",
      "Success 98:  [4 1 5 0 6 3 7 2]\n",
      "Success 99:  [4 1 3 6 2 7 5 0]\n",
      "Success 100:  [1 6 2 5 7 4 0 3]\n",
      "Success 101:  [7 3 0 2 5 1 6 4]\n",
      "Success 102:  [3 6 0 7 4 1 5 2]\n",
      "Success 103:  [2 6 1 7 5 3 0 4]\n",
      "Success 104:  [2 5 1 4 7 0 6 3]\n",
      "Success 105:  [3 1 4 7 5 0 2 6]\n",
      "Success 106:  [4 6 1 3 7 0 2 5]\n",
      "Success 107:  [1 4 6 3 0 7 5 2]\n",
      "Success 108:  [5 2 0 6 4 7 1 3]\n",
      "Success 109:  [2 4 6 0 3 1 7 5]\n",
      "Success 110:  [5 2 0 7 3 1 6 4]\n",
      "Success 111:  [1 5 0 6 3 7 2 4]\n",
      "Success 112:  [0 5 7 2 6 3 1 4]\n",
      "Success 113:  [6 0 2 7 5 3 1 4]\n",
      "Success 114:  [7 2 0 5 1 4 6 3]\n",
      "Success 115:  [3 0 4 7 5 2 6 1]\n",
      "Success 116:  [3 6 4 1 5 0 2 7]\n",
      "Success 117:  [6 3 1 7 5 0 2 4]\n",
      "Success 118:  [7 1 4 2 0 6 3 5]\n",
      "Success 119:  [3 7 4 2 0 6 1 5]\n",
      "Success 120:  [4 1 3 5 7 2 0 6]\n",
      "Success 121:  [4 6 3 0 2 7 5 1]\n",
      "Success 122:  [4 7 3 0 2 5 1 6]\n",
      "Success 123:  [3 5 7 2 0 6 4 1]\n",
      "Success 124:  [1 6 2 5 7 4 0 3]\n",
      "Success 125:  [6 3 1 7 5 0 2 4]\n",
      "Success 126:  [2 5 1 6 4 0 7 3]\n",
      "Success 127:  [2 0 6 4 7 1 3 5]\n",
      "Success 128:  [3 1 6 2 5 7 4 0]\n",
      "Success 129:  [3 7 0 2 5 1 6 4]\n",
      "Success 130:  [6 1 5 2 0 3 7 4]\n",
      "Success 131:  [5 1 6 0 2 4 7 3]\n",
      "Success 132:  [4 0 3 5 7 1 6 2]\n",
      "Success 133:  [4 0 7 5 2 6 1 3]\n",
      "Success 134:  [1 4 6 3 0 7 5 2]\n",
      "Number of successes = 134\n"
     ]
    }
   ],
   "source": [
    "num_trials = 1000\n",
    "num_successes = 0\n",
    "\n",
    "for i in range(num_trials):\n",
    "    queens = np.random.randint(8, size=8)\n",
    "    #print(f'queens: {queens}')\n",
    "\n",
    "    while True:\n",
    "\n",
    "        current_attack_pairs = attack_pairs(queens)\n",
    "        #print(f'current_attack_pairs: {current_attack_pairs}')\n",
    "\n",
    "        attack_pairs_neighbors = attack_pairs_board(queens)\n",
    "        #print(f'attack_pairs_neighbors: \\n{attack_pairs_neighbors}')\n",
    "\n",
    "        attack_pairs_neighbors_min = attack_pairs_neighbors.min()\n",
    "        #print(f'attack_pairs_neighbors_min: {attack_pairs_neighbors_min}')\n",
    "\n",
    "        if current_attack_pairs == 0:\n",
    "            \n",
    "            num_successes += 1\n",
    "            print(f'Success {num_successes}:  {queens}')\n",
    "            break;\n",
    "        \n",
    "        elif attack_pairs_neighbors_min < current_attack_pairs:\n",
    "\n",
    "            min_index = attack_pairs_neighbors.argmin()\n",
    "            #print(f'min_index: {min_index}')\n",
    "\n",
    "            n = len(queens)\n",
    "\n",
    "            row_min = min_index // n\n",
    "            col_min = min_index % n\n",
    "            #print(f'row_min: {row_min}')\n",
    "            #print(f'col_min: {col_min}')\n",
    "\n",
    "            queens[col_min] = row_min\n",
    "            #print(f'queens: {queens}')\n",
    "\n",
    "            current_attack_pairs = attack_pairs(queens)\n",
    "            #print(f'current_attack_pairs: {current_attack_pairs}')\n",
    "\n",
    "        else:\n",
    "\n",
    "            #print(f'local min reached: {queens}')\n",
    "            break;\n",
    "        \n",
    "print(f'Number of successes = {num_successes}')\n"
   ]
  },
  {
   "cell_type": "code",
   "execution_count": 26,
   "metadata": {},
   "outputs": [],
   "source": [
    "def hill_climb_steepest_ascent(n):\n",
    "    \n",
    "    # start with a random assignment of queens on the board.\n",
    "    queens = np.random.randint(n, size=n)\n",
    "    \n",
    "    # iterate until either a goal state reached (no attacking queens) \n",
    "    # or a local optimum.\n",
    "    \n",
    "    while True:\n",
    "        # get the number of attacking pairs for the current arrangement of queens.\n",
    "        current_attack_pairs = attack_pairs(queens)\n",
    "\n",
    "        # calculate the number of attacking pairs for all the neighbors on the board.\n",
    "        attack_pairs_neighbors = attack_pairs_board(queens)\n",
    "\n",
    "        # get the min number of attacking pairs among neighbors\n",
    "        attack_pairs_neighbors_min = attack_pairs_neighbors.min()\n",
    "\n",
    "        if current_attack_pairs == 0:            # we have reached a goal state - return it\n",
    "            return 0, queens\n",
    "        elif attack_pairs_neighbors_min < current_attack_pairs:    # no goal state, so move to a state with \n",
    "                                                                   # min attacking pairs (i.e., steepest ascent)\n",
    "            min_index = attack_pairs_neighbors.argmin()\n",
    "            row_min = min_index // n\n",
    "            col_min = min_index % n\n",
    " \n",
    "            # move to successor state (move queen...)\n",
    "            queens[col_min] = row_min\n",
    "        else:                                                   # local optimum reached (no goal state - failure)\n",
    "            return current_attack_pairs, queens"
   ]
  },
  {
   "cell_type": "code",
   "execution_count": 33,
   "metadata": {},
   "outputs": [
    {
     "name": "stdout",
     "output_type": "stream",
     "text": [
      "Success: [3 1 4 7 5 0 2 6]\n",
      "Success: [1 7 5 0 2 4 6 3]\n",
      "Success: [3 7 4 2 0 6 1 5]\n",
      "Success: [2 6 1 7 5 3 0 4]\n",
      "Success: [2 5 7 0 3 6 4 1]\n",
      "Success: [1 4 6 3 0 7 5 2]\n",
      "Success: [1 5 0 6 3 7 2 4]\n",
      "Success: [5 2 4 7 0 3 1 6]\n",
      "Success: [5 2 0 6 4 7 1 3]\n",
      "Success: [3 0 4 7 5 2 6 1]\n",
      "Success: [6 3 1 4 7 0 2 5]\n",
      "Success: [3 6 2 7 1 4 0 5]\n",
      "Success: [1 4 6 3 0 7 5 2]\n",
      "Number of successes: 13\n"
     ]
    }
   ],
   "source": [
    "num_successes = 0\n",
    "for i in range(100):\n",
    "    attack_pairs_count, queens = hill_climb_steepest_ascent(8)\n",
    "    if attack_pairs_count == 0:\n",
    "        print(f'Success: {queens}')\n",
    "        num_successes += 1\n",
    "print(f'Number of successes: {num_successes}')"
   ]
  },
  {
   "cell_type": "code",
   "execution_count": null,
   "metadata": {},
   "outputs": [],
   "source": []
  },
  {
   "cell_type": "code",
   "execution_count": null,
   "metadata": {},
   "outputs": [],
   "source": []
  },
  {
   "cell_type": "code",
   "execution_count": null,
   "metadata": {},
   "outputs": [],
   "source": []
  },
  {
   "cell_type": "code",
   "execution_count": null,
   "metadata": {},
   "outputs": [],
   "source": []
  },
  {
   "cell_type": "code",
   "execution_count": null,
   "metadata": {},
   "outputs": [],
   "source": []
  },
  {
   "cell_type": "code",
   "execution_count": null,
   "metadata": {},
   "outputs": [],
   "source": []
  },
  {
   "cell_type": "code",
   "execution_count": null,
   "metadata": {},
   "outputs": [],
   "source": []
  },
  {
   "cell_type": "code",
   "execution_count": null,
   "metadata": {},
   "outputs": [],
   "source": []
  },
  {
   "cell_type": "code",
   "execution_count": null,
   "metadata": {},
   "outputs": [],
   "source": []
  },
  {
   "cell_type": "code",
   "execution_count": null,
   "metadata": {},
   "outputs": [],
   "source": []
  },
  {
   "cell_type": "code",
   "execution_count": null,
   "metadata": {},
   "outputs": [],
   "source": []
  },
  {
   "cell_type": "code",
   "execution_count": null,
   "metadata": {},
   "outputs": [],
   "source": []
  },
  {
   "cell_type": "code",
   "execution_count": null,
   "metadata": {},
   "outputs": [],
   "source": []
  },
  {
   "cell_type": "code",
   "execution_count": null,
   "metadata": {},
   "outputs": [],
   "source": []
  },
  {
   "cell_type": "code",
   "execution_count": null,
   "metadata": {},
   "outputs": [],
   "source": [
    "min_indexes = np.where(attack_pairs_neighbors.flatten() == attack_pairs_neighbors_min)"
   ]
  },
  {
   "cell_type": "code",
   "execution_count": null,
   "metadata": {},
   "outputs": [],
   "source": [
    "min_indexes"
   ]
  },
  {
   "cell_type": "code",
   "execution_count": null,
   "metadata": {},
   "outputs": [],
   "source": [
    "type(min_indexes)"
   ]
  },
  {
   "cell_type": "code",
   "execution_count": null,
   "metadata": {},
   "outputs": [],
   "source": [
    "x = np.array([[1, 2, 3], [4, 5, 6], [7, 8, 9]])"
   ]
  },
  {
   "cell_type": "code",
   "execution_count": null,
   "metadata": {},
   "outputs": [],
   "source": [
    "np.where(x.flatten() == 7)"
   ]
  },
  {
   "cell_type": "code",
   "execution_count": null,
   "metadata": {},
   "outputs": [],
   "source": [
    "min_indexes = np.where(attack_pairs_neighbors.flatten() == attack_pairs_neighbors.min())[0]"
   ]
  },
  {
   "cell_type": "code",
   "execution_count": null,
   "metadata": {},
   "outputs": [],
   "source": [
    "min_indexes"
   ]
  },
  {
   "cell_type": "code",
   "execution_count": null,
   "metadata": {},
   "outputs": [],
   "source": []
  },
  {
   "cell_type": "code",
   "execution_count": null,
   "metadata": {},
   "outputs": [],
   "source": []
  },
  {
   "cell_type": "code",
   "execution_count": null,
   "metadata": {},
   "outputs": [],
   "source": []
  },
  {
   "cell_type": "code",
   "execution_count": null,
   "metadata": {},
   "outputs": [],
   "source": []
  },
  {
   "cell_type": "code",
   "execution_count": null,
   "metadata": {},
   "outputs": [],
   "source": []
  },
  {
   "cell_type": "code",
   "execution_count": null,
   "metadata": {},
   "outputs": [],
   "source": []
  },
  {
   "cell_type": "code",
   "execution_count": null,
   "metadata": {},
   "outputs": [],
   "source": []
  },
  {
   "cell_type": "code",
   "execution_count": null,
   "metadata": {},
   "outputs": [],
   "source": []
  },
  {
   "cell_type": "code",
   "execution_count": null,
   "metadata": {},
   "outputs": [],
   "source": []
  },
  {
   "cell_type": "code",
   "execution_count": null,
   "metadata": {},
   "outputs": [],
   "source": []
  },
  {
   "cell_type": "code",
   "execution_count": null,
   "metadata": {},
   "outputs": [],
   "source": []
  },
  {
   "cell_type": "code",
   "execution_count": null,
   "metadata": {},
   "outputs": [],
   "source": []
  },
  {
   "cell_type": "code",
   "execution_count": null,
   "metadata": {},
   "outputs": [],
   "source": []
  },
  {
   "cell_type": "code",
   "execution_count": null,
   "metadata": {},
   "outputs": [],
   "source": []
  },
  {
   "cell_type": "markdown",
   "metadata": {},
   "source": [
    "####  Support functions for Problems 1 and 2:"
   ]
  },
  {
   "cell_type": "code",
   "execution_count": null,
   "metadata": {},
   "outputs": [],
   "source": [
    "import logging\n",
    "import pandas as pd\n",
    "import numpy as np\n",
    "from queue import Queue\n",
    "import time\n",
    "\n",
    "logging.basicConfig(level=logging.DEBUG, format='%(levelname)s - %(message)s')\n",
    "logging.disable(logging.CRITICAL)   # comment this out to turn logging on"
   ]
  },
  {
   "cell_type": "code",
   "execution_count": null,
   "metadata": {},
   "outputs": [],
   "source": [
    "def no_attack(board):\n",
    "    \"\"\"\n",
    "    Returns True if the queen at location board[0] is not attacking any other queen on the board, i.e., any\n",
    "    other location given in board[1:].  There are three tests - 1.  test to see if there's another queen in the same\n",
    "    row, 2. test to see if there's another queen along the negative diagonal (downward to right), and 3. test whether\n",
    "    there's another queen along the positive diagonal (upward to the right).\n",
    "    \n",
    "    This function is called as each queen is added to the board at board[0] by the algorithm.  Thus, testing just this \n",
    "    first queen against all others on the board is sufficient to determine whether there are any attacking pairs of \n",
    "    queens.\n",
    "    \"\"\"\n",
    "    # test to see whether another queen is in the same row as the queen just added in the first column.\n",
    "    if board[0] in board[1:]:\n",
    "        logging.debug('queens attacking each other in the same row.')\n",
    "        return False\n",
    "    \n",
    "    # test whether another queen is positioned along the same diagonal as the queen in the first column.\n",
    "    for i in range(1, len(board)):\n",
    "        if board[i] == board[0] + i:\n",
    "            logging.debug('queens attacking each other along positive diagonal.')\n",
    "            logging.debug('queen 1: column 0, row {}'.format(board[0]))\n",
    "            logging.debug('queen 2: column {}, row {}'.format(i, board[i]))\n",
    "            return False\n",
    "        if board[i] == board[0] - i:\n",
    "            logging.debug('queens attacking each other along negative diagonal.')\n",
    "            logging.debug('queen 1: column 0, row {}'.format(board[0]))\n",
    "            logging.debug('queen 2: column {}, row {}'.format(i, board[i]))\n",
    "            logging.debug(board[i])\n",
    "            return False\n",
    "    return True\n",
    "    "
   ]
  },
  {
   "cell_type": "code",
   "execution_count": null,
   "metadata": {},
   "outputs": [],
   "source": [
    "def bfs(n):\n",
    "    \"\"\"\n",
    "    Implements the Breadth First Search (BFS) algorithm using a queue.  \n",
    "    \n",
    "    An empty board is added as the initial state, then we make new states from this initial state by adding a \n",
    "    queen to each of the squares of the last column.  And to each of these states, we attempt to add a queeen go the \n",
    "    second-to-last column.  With each add, we test whether the just-added queen is attacking any other queen by\n",
    "    calling the no_attack() function.\n",
    "    \"\"\"\n",
    "    \n",
    "    q = Queue()\n",
    "\n",
    "    q.put([])  # add an empty board to the queue\n",
    "    solutions = []\n",
    "\n",
    "    while(q.empty() == False):\n",
    "        current_state = q.get()\n",
    "        for i in range(n):\n",
    "            new_state = current_state.copy()\n",
    "            new_state.insert(0, i)\n",
    "            if no_attack(new_state):\n",
    "                if len(new_state) < n:\n",
    "                    q.put(new_state)\n",
    "                else:\n",
    "                    solutions.append(new_state)\n",
    "\n",
    "    return solutions"
   ]
  },
  {
   "cell_type": "code",
   "execution_count": null,
   "metadata": {},
   "outputs": [],
   "source": [
    "def print_solution(board):\n",
    "    \"\"\"\n",
    "    Prints out a board of queens by piggy-backing on the visualization functionality for dataframes in the \n",
    "    pandas package.  Not fancy but it's good enough to do the job.  The point of this assignmment is not to \n",
    "    become a graphics expert.  Although if you provide something better, that's more than welcome.\n",
    "    \"\"\"\n",
    "    grid = [['' for i in range(len(board))] for j in range(len(board))]\n",
    "    for i in range(len(board)):\n",
    "        grid[len(grid) - board[i] - 1][i] = 'Q'\n",
    "    display(pd.DataFrame(np.array(grid)))"
   ]
  },
  {
   "cell_type": "code",
   "execution_count": null,
   "metadata": {},
   "outputs": [],
   "source": [
    "def print_solutions(solutions):\n",
    "    \"\"\"\n",
    "    Prints all the boards in the solutions list, passed as an input to this function.\n",
    "    \"\"\"\n",
    "    print('\\nThere are {} solutions:\\n'.format(len(solutions)))\n",
    "    print('*'*30)\n",
    "    for i in range(len(solutions)):        \n",
    "        print('\\nSolution {}:'.format(i+1))\n",
    "        print_solution(solutions[i])\n",
    "        print('*'*30)\n"
   ]
  },
  {
   "cell_type": "code",
   "execution_count": null,
   "metadata": {},
   "outputs": [],
   "source": [
    "def print_execution_time(start, end):\n",
    "    print('Execution Time: {:0.4f} seconds.'.format(end-start))"
   ]
  },
  {
   "cell_type": "code",
   "execution_count": null,
   "metadata": {},
   "outputs": [],
   "source": [
    "def dfs(n):\n",
    "    \"\"\"\n",
    "    Implements the Depth First Search (BFS) algorithm using a stack.  \n",
    "    \n",
    "    An empty board is added as the initial state, then we make new states from this initial state by adding a \n",
    "    queen to each of the squares of the last column.  And to each of these states, we attempt to add a queeen go the \n",
    "    second-to-last column.  With each add, we test whether the just-added queen is attacking any other queen by\n",
    "    calling the no_attack() function.\n",
    "    \"\"\"\n",
    "\n",
    "    stack = []\n",
    "\n",
    "    stack.append([])  # add an empty board to the stack\n",
    "    solutions = []\n",
    "\n",
    "    while(len(stack) != 0):\n",
    "        current_state = stack.pop()\n",
    "        for i in range(n):\n",
    "            new_state = current_state.copy()\n",
    "            new_state.insert(0, i)\n",
    "            if no_attack(new_state):\n",
    "                if len(new_state) < n:\n",
    "                    stack.append(new_state)\n",
    "                else:\n",
    "                    solutions.append(new_state)\n",
    "    return solutions"
   ]
  },
  {
   "cell_type": "markdown",
   "metadata": {},
   "source": [
    "### Problem 1 - BFS with 5-queens"
   ]
  },
  {
   "cell_type": "code",
   "execution_count": null,
   "metadata": {},
   "outputs": [],
   "source": [
    "\n",
    "# call bfs(5), and print out the solutions.\n",
    "\n",
    "start = time.perf_counter()\n",
    "solutions = bfs(5)\n",
    "end = time.perf_counter()\n",
    "\n",
    "print_solutions(solutions)\n",
    "print_execution_time(start, end)\n"
   ]
  },
  {
   "cell_type": "markdown",
   "metadata": {},
   "source": [
    "### Problem 2 - DFS with 5-queens"
   ]
  },
  {
   "cell_type": "code",
   "execution_count": null,
   "metadata": {},
   "outputs": [],
   "source": [
    "start = time.perf_counter()\n",
    "solutions = dfs(5)\n",
    "end = time.perf_counter()\n",
    "\n",
    "print_solutions(solutions)\n",
    "print_execution_time(start, end)\n"
   ]
  },
  {
   "cell_type": "markdown",
   "metadata": {},
   "source": [
    "### Problem 4 - Extra Credit - BFS and DFS with 8-queens"
   ]
  },
  {
   "cell_type": "code",
   "execution_count": null,
   "metadata": {},
   "outputs": [],
   "source": [
    "start = time.perf_counter()\n",
    "solutions = bfs(8)\n",
    "end = time.perf_counter()\n",
    "\n",
    "print_solutions(solutions)\n",
    "print_execution_time(start, end)\n"
   ]
  },
  {
   "cell_type": "code",
   "execution_count": null,
   "metadata": {},
   "outputs": [],
   "source": [
    "start = time.perf_counter()\n",
    "solutions = dfs(8)\n",
    "end = time.perf_counter()\n",
    "\n",
    "print_solutions(solutions)\n",
    "print_execution_time(start, end)\n"
   ]
  },
  {
   "cell_type": "markdown",
   "metadata": {},
   "source": [
    "### Problem 3 - Local Search"
   ]
  },
  {
   "cell_type": "code",
   "execution_count": null,
   "metadata": {},
   "outputs": [],
   "source": [
    "board = [3, 2, 1, 4, 3, 2, 1, 2]"
   ]
  },
  {
   "cell_type": "code",
   "execution_count": null,
   "metadata": {
    "scrolled": false
   },
   "outputs": [],
   "source": [
    "print_solution(board)"
   ]
  },
  {
   "cell_type": "code",
   "execution_count": null,
   "metadata": {},
   "outputs": [],
   "source": []
  }
 ],
 "metadata": {
  "kernelspec": {
   "display_name": "Python 3 (ipykernel)",
   "language": "python",
   "name": "python3"
  },
  "language_info": {
   "codemirror_mode": {
    "name": "ipython",
    "version": 3
   },
   "file_extension": ".py",
   "mimetype": "text/x-python",
   "name": "python",
   "nbconvert_exporter": "python",
   "pygments_lexer": "ipython3",
   "version": "3.9.13"
  }
 },
 "nbformat": 4,
 "nbformat_minor": 4
}
