{
 "cells": [
  {
   "cell_type": "markdown",
   "id": "a07824ad",
   "metadata": {
    "deletable": false,
    "editable": false
   },
   "source": [
    "## CSE 4705: Assignment 02 - Arad to Bucharest - BFS, DFS, UCS, GBFS, A* \n"
   ]
  },
  {
   "cell_type": "markdown",
   "id": "f723f262",
   "metadata": {
    "deletable": false
   },
   "source": [
    "## Problem 1\n",
    "[100] Write a routine that solves the problem of finds a travel path of cities from from Arad to Bucharest in Romania, as discussed in class. Do this using each of the following approaches (points shown in brackets):\n",
    "\n",
    "1. [15] Breadth First Search (BFS)\n",
    "2. [10] Depth First Search (DFS)\n",
    "3. [25] Uniform Cost Search (UCS)\n",
    "4. [25] Greedy Best First Search (GBFS)\n",
    "5. [25] A*\n",
    "\n",
    "\n",
    "You will use the map from Lecture 03 - Informed Search which shows the major cities in Romania and the distances between them for those cities that are directly connected.  Also, you will use the straight-line-distances shown in the adjacent table for your heuristic function, $h(n)$ for GBFS and A*.  A screenshot of the relevant slide is given below.  Data structures that store this information, romania_map and sld_to_bucharest, have been provided so you can access and apply this data in your algorithm implementations.  Details of these data structures are given below.\n",
    "\n",
    "<img src=\"images/romania_cities.png\" width=\"800\" height=\"600\">\n",
    "\n",
    "### Output for Each Routine\n",
    "\n",
    "Each of your routines should return an output or set of outputs that clearly indicates the following:\n",
    "\n",
    "1. The sequence of cities from Arad to Bucharest.  (Make sure the cities, Arad and Bucharest are explicitly listed as the first and last cities in your output.)  One suggestion is to return this output in the form of a list.\n",
    "2. Cost to travel to each city from its predecessor.  \n",
    "3. Total cost for the path.  \n",
    "\n",
    "In the case of A* and Uniform Cost Search, your routines should return the *cheapest path*.  However, that will not necessarily be the case for BFS, DFS, or GBFS.  (Why not?)"
   ]
  },
  {
   "cell_type": "markdown",
   "id": "7780765b",
   "metadata": {
    "deletable": false,
    "editable": false
   },
   "source": [
    "### Romania Graph\n",
    "\n",
    "You will use the data structure stored in the romania_map, assigned below to implement the search across the various cities to find a path from Arad to Bucharest.\n",
    "\n",
    "Some details about romania_map:\n",
    "- A dictionary of dictionaries \n",
    "- The outer dictionary is as follows: each key is a city and the value for that city is a nested dictionary of cities to which the said city is directly connected.\n",
    "- The nested dictionary contains the cities to which the parent key is directly connected (keys) and the corresponding distances from the parent city to those respective cities (values).\n",
    "- For example, for the city Oradea, we have a key in the outer dictionary (Oradea), and the associated value is a dictionary containing the Zerind and Sibiu as keys, where for each of these the values are the distances from Oradea to these respective cities.\n",
    "\n"
   ]
  },
  {
   "cell_type": "code",
   "execution_count": 5,
   "id": "9c5f305a",
   "metadata": {
    "deletable": false,
    "editable": false
   },
   "outputs": [],
   "source": [
    "\n",
    "romania_map = {\n",
    "    'Oradea':{'Zerind':71, 'Sibiu':151},\n",
    "    'Zerind':{'Oradea':71, 'Arad':75},\n",
    "    'Arad':{'Zerind':75, 'Sibiu':140, 'Timisoara':118},\n",
    "    'Timisoara':{'Arad':118, 'Lugoj':111},\n",
    "    'Lugoj':{'Timisoara':111, 'Mehadia':70},\n",
    "    'Mehadia':{'Lugoj':70, 'Dobreta':75},\n",
    "    'Dobreta':{'Mehadia':75, 'Craiova':120},\n",
    "    'Sibiu':{'Oradea':151, 'Fagaras':99, 'Rimnicu Vilcea':80, 'Arad':140},\n",
    "    'Rimnicu Vilcea':{'Sibiu':80, 'Pitesti':97, 'Craiova':146},\n",
    "    'Craiova':{'Rimnicu Vilcea':146, 'Pitesti':138, 'Dobreta':120},\n",
    "    'Fagaras':{'Sibiu':99, 'Bucharest':211},\n",
    "    'Pitesti':{'Rimnicu Vilcea':97, 'Bucharest':101, 'Craiova':138},\n",
    "    'Neamt':{'Iasi':87},\n",
    "    'Giurgiu':{'Bucharest':90},\n",
    "    'Bucharest':{'Pitesti':101, 'Fagaras':211, 'Urziceni':85, 'Giurgiu':90},\n",
    "    'Iasi':{'Neamt':87, 'Vaslui':92},\n",
    "    'Urziceni':{'Bucharest':85, 'Vaslui':142, 'Hirsova':98},\n",
    "    'Vaslui':{'Iasi':92, 'Urziceni':142},\n",
    "    'Hirsova':{'Urziceni':98, 'Eforie':86},\n",
    "    'Eforie':{'Hirsova':86}\n",
    "}"
   ]
  },
  {
   "cell_type": "markdown",
   "id": "0042909e",
   "metadata": {
    "deletable": false,
    "editable": false
   },
   "source": [
    "### Heuristic Function Data - Straight-Line Distances to Bucharest\n",
    "\n",
    "You will use the dictionary below as your resource for retrieving straight-line distance data for implementing the GBFS and A* algorithms."
   ]
  },
  {
   "cell_type": "code",
   "execution_count": 6,
   "id": "aaf76cda",
   "metadata": {
    "deletable": false,
    "editable": false
   },
   "outputs": [],
   "source": [
    "sld_to_Bucharest = {'Arad':366,\n",
    "                    'Bucharest':0,\n",
    "                    'Craiova':160,\n",
    "                    'Dobreta':242,\n",
    "                    'Eforie':161,\n",
    "                    'Fagaras':176,\n",
    "                    'Giurgiu':77,\n",
    "                    'Hirsova':151,\n",
    "                    'Iasi':226,\n",
    "                    'Lugoj':244,\n",
    "                    'Mehadia':241,\n",
    "                    'Neamt':234,\n",
    "                    'Oradea':380,\n",
    "                    'Pitesti':100,\n",
    "                    'Rimnicu Vilcea':193,\n",
    "                    'Sibiu':253,\n",
    "                    'Timisoara':329,\n",
    "                    'Urziceni':80,\n",
    "                    'Vaslui':199,\n",
    "                    'Zerind':374\n",
    "                   }"
   ]
  },
  {
   "cell_type": "markdown",
   "id": "49c8d585",
   "metadata": {
    "deletable": false,
    "editable": false
   },
   "source": [
    "### 1. BFS Implementation\n",
    "\n",
    "Provide your implementation of the BFS Search below."
   ]
  },
  {
   "cell_type": "code",
   "execution_count": 8,
   "id": "dc105d97",
   "metadata": {},
   "outputs": [],
   "source": [
    "from collections import deque\n",
    "# import queue\n",
    "\n",
    "class Node:\n",
    "  def __init__(self, name, predecessor, cost):\n",
    "    self.name = name\n",
    "    self.predecessor = predecessor\n",
    "    self.cost = cost\n",
    "\n",
    "class Queue:\n",
    "  def __init__(self):\n",
    "    self.container = deque()\n",
    "  \n",
    "  def put(self, data):\n",
    "    self.container.append(data)\n",
    "\n",
    "  def get(self):\n",
    "    return self.container.popleft()\n",
    "  \n",
    "  def empty(self):\n",
    "    return len(self.container) == 0\n",
    "\n",
    "class Stack:\n",
    "  def __init__(self):\n",
    "    self.container = deque()\n",
    "\n",
    "  def put(self, data):\n",
    "    self.container.append(data)\n",
    "\n",
    "  def get(self):\n",
    "    return self.container.pop()\n",
    "\n",
    "  def empty(self):\n",
    "    return len(self.container) == 0\n",
    "  \n",
    "def path(node):\n",
    "  if node.predecessor == None:\n",
    "    return [node.name, node.cost]\n",
    "  else:\n",
    "    return path(node.predecessor) + [node.name, node.cost]\n",
    "  \n",
    "def report_path(path):\n",
    "  print(\"Path: \", end='')\n",
    "  for i in range(0, len(path), 2):\n",
    "    print(path[i], '(' + str(path[i+1]) + ')', end='')\n",
    "    if i < len(path) - 2:\n",
    "      print(\" -> \", end='')\n",
    "  print(\"\\nCost: \", path[-1])"
   ]
  },
  {
   "cell_type": "code",
   "execution_count": 9,
   "id": "d93bf6fd",
   "metadata": {},
   "outputs": [],
   "source": [
    "def searchGeneric(graph, start, goal, search_type, debug=False):  \n",
    "  if search_type == 'bfs':\n",
    "    frontier = Queue()\n",
    "  elif search_type == 'dfs':\n",
    "    frontier = Stack()\n",
    "  else:\n",
    "    raise Exception('Invalid search type')\n",
    "  \n",
    "  visited_nodes = set()\n",
    "\n",
    "  # Create a node for the start node\n",
    "  start_node = Node(start, None, 0)\n",
    "\n",
    "  visited_nodes.add(start_node.name)\n",
    "  frontier.put(start_node)\n",
    "\n",
    "  while (not frontier.empty()):\n",
    "    current_node = frontier.get()\n",
    "\n",
    "    # For all the neighbor nodes of the current node\n",
    "    for neighbor in graph[current_node.name]:\n",
    "      if neighbor in visited_nodes:\n",
    "        continue\n",
    "      neighbor_node = Node(neighbor, current_node, current_node.cost + graph[current_node.name][neighbor])\n",
    "      if (debug): print('Visiting node: ', neighbor_node.name)\n",
    "      if neighbor_node.name == goal:\n",
    "        return path(neighbor_node)\n",
    "      visited_nodes.add(neighbor_node.name)\n",
    "      frontier.put(neighbor_node)\n",
    "\n",
    "  return None"
   ]
  },
  {
   "cell_type": "code",
   "execution_count": 14,
   "id": "b8b8b86e",
   "metadata": {},
   "outputs": [],
   "source": [
    "def bfs(graph, start_node, goal_node):\n",
    "  return searchGeneric(graph, start_node, goal_node, 'bfs', debug=False)"
   ]
  },
  {
   "cell_type": "code",
   "execution_count": 15,
   "id": "dd7c67e9",
   "metadata": {},
   "outputs": [
    {
     "name": "stdout",
     "output_type": "stream",
     "text": [
      "Path: Arad (0) -> Sibiu (140) -> Fagaras (239) -> Bucharest (450)\n",
      "Cost:  450\n"
     ]
    }
   ],
   "source": [
    "res = bfs(romania_map, 'Arad', 'Bucharest')\n",
    "report_path(res)"
   ]
  },
  {
   "cell_type": "code",
   "execution_count": null,
   "id": "1de09459",
   "metadata": {},
   "outputs": [],
   "source": []
  },
  {
   "cell_type": "markdown",
   "id": "e27de0bb",
   "metadata": {
    "deletable": false,
    "editable": false
   },
   "source": [
    "### 2.  DFS Implementation\n",
    "\n",
    "Provide your implementation of the DFS Search below."
   ]
  },
  {
   "cell_type": "code",
   "execution_count": 16,
   "id": "c491c5ac",
   "metadata": {},
   "outputs": [],
   "source": [
    "def dfs(graph, start_node, goal_node):\n",
    "  return searchGeneric(graph, start_node, goal_node, 'dfs')"
   ]
  },
  {
   "cell_type": "code",
   "execution_count": 18,
   "id": "72d33bd7",
   "metadata": {},
   "outputs": [
    {
     "name": "stdout",
     "output_type": "stream",
     "text": [
      "Path: Arad (0) -> Timisoara (118) -> Lugoj (229) -> Mehadia (299) -> Dobreta (374) -> Craiova (494) -> Pitesti (632) -> Bucharest (733)\n",
      "Cost:  733\n"
     ]
    }
   ],
   "source": [
    "res = dfs(romania_map, 'Arad', 'Bucharest')\n",
    "report_path(res)"
   ]
  },
  {
   "cell_type": "code",
   "execution_count": null,
   "id": "f9c9852d",
   "metadata": {},
   "outputs": [],
   "source": []
  },
  {
   "cell_type": "code",
   "execution_count": null,
   "id": "875b7211",
   "metadata": {},
   "outputs": [],
   "source": []
  },
  {
   "cell_type": "code",
   "execution_count": null,
   "id": "e1bcd227",
   "metadata": {},
   "outputs": [],
   "source": []
  },
  {
   "cell_type": "markdown",
   "id": "509df9d1",
   "metadata": {
    "deletable": false,
    "editable": false
   },
   "source": [
    "### 3. UCS Implementation\n",
    "\n",
    "Provide your implementation of the UCS Search below."
   ]
  },
  {
   "cell_type": "code",
   "execution_count": 19,
   "id": "4380f2b5",
   "metadata": {},
   "outputs": [],
   "source": [
    "import heapq\n",
    "\n",
    "def path(node):\n",
    "  if node.predecessor == None:\n",
    "    return [node.name, node.cost]\n",
    "  else:\n",
    "    return path(node.predecessor) + [node.name, node.cost]\n",
    "  \n",
    "def report_path(path):\n",
    "  print(\"Path: \", end='')\n",
    "  for i in range(0, len(path), 2):\n",
    "    print(path[i], '(' + str(path[i+1]) + ')', end='')\n",
    "    if i < len(path) - 2:\n",
    "      print(\" -> \", end='')\n",
    "  print(\"\\nCost: \", path[-1])\n",
    "\n",
    "class PriorityQueue:\n",
    "  def __init__(self):\n",
    "    self.container = []\n",
    "    self.set = set()\n",
    "\n",
    "  def getPriority(self, dataName):\n",
    "    for (priority, d) in self.container:\n",
    "      if d.name == dataName:\n",
    "        return priority\n",
    "    return None\n",
    "  \n",
    "  def getWithName(self, dataName):\n",
    "    for (priority, d) in self.container:\n",
    "      if d.name == dataName:\n",
    "        return d\n",
    "    return None\n",
    "\n",
    "  # This function also handles duplicates with different priorities\n",
    "  # Keeps the one with the lowest priority\n",
    "  def put(self, data, priority):\n",
    "    if not data.name in self.set:\n",
    "      self.set.add(data.name)\n",
    "      heapq.heappush(self.container, (priority, data))\n",
    "    else:\n",
    "      if priority < self.getPriority(data.name):\n",
    "        oldData = self.getWithName(data.name)\n",
    "        self.container.remove((self.getPriority(data.name), oldData))\n",
    "        heapq.heappush(self.container, (priority, data))\n",
    "\n",
    "  def get(self):\n",
    "    return heapq.heappop(self.container)[-1]\n",
    "  \n",
    "  def empty(self):\n",
    "    return len(self.container) == 0\n",
    "  "
   ]
  },
  {
   "cell_type": "code",
   "execution_count": 20,
   "id": "4cac2244",
   "metadata": {},
   "outputs": [],
   "source": [
    "def searchPriority(graph, start, goal, search_type, debug=False):\n",
    "  if search_type == 'ucs':\n",
    "    frontier = PriorityQueue()\n",
    "  elif search_type == 'gbfs':\n",
    "    frontier = PriorityQueue()\n",
    "  elif search_type == 'a_star':\n",
    "    frontier = PriorityQueue()\n",
    "  else:\n",
    "    raise Exception('Invalid search type')\n",
    "  \n",
    "  explored_nodes = set()\n",
    "\n",
    "  # Create a node for the start node\n",
    "  start_node = Node(start, None, 0)\n",
    "\n",
    "  frontier.put(start_node, start_node.cost)\n",
    "\n",
    "  while (not frontier.empty()):\n",
    "    current_node = frontier.get()\n",
    "    explored_nodes.add(current_node.name)\n",
    "    if (current_node.name == goal):\n",
    "      return path(current_node)\n",
    "\n",
    "    # For all the neighbor nodes of the current node\n",
    "    for neighbor in graph[current_node.name]:\n",
    "      if neighbor in explored_nodes:\n",
    "        continue\n",
    "      neighbor_node = Node(neighbor, current_node, current_node.cost + graph[current_node.name][neighbor])\n",
    "      if (debug): print('Visiting node: ', neighbor_node.name)\n",
    "\n",
    "      # The put function for priority queue handles duplicate nodes with the same name\n",
    "      if search_type == 'ucs':\n",
    "        # f(n) = g(n)\n",
    "        frontier.put(neighbor_node, neighbor_node.cost)\n",
    "      elif search_type == 'gbfs':\n",
    "        # f(n) = h(n)\n",
    "        frontier.put(neighbor_node, sld_to_Bucharest[neighbor_node.name])\n",
    "      elif search_type == 'a_star':\n",
    "        # f(n) = g(n) + h(n)\n",
    "        frontier.put(neighbor_node, neighbor_node.cost + sld_to_Bucharest[neighbor_node.name])\n",
    "\n",
    "  return None"
   ]
  },
  {
   "cell_type": "code",
   "execution_count": 21,
   "id": "0167a7f6",
   "metadata": {},
   "outputs": [],
   "source": [
    "def ucs(graph, start_node, goal_node):\n",
    "  return searchPriority(graph, start_node, goal_node, 'ucs')"
   ]
  },
  {
   "cell_type": "code",
   "execution_count": 23,
   "id": "9530b9cf",
   "metadata": {},
   "outputs": [
    {
     "name": "stdout",
     "output_type": "stream",
     "text": [
      "Path: Arad (0) -> Sibiu (140) -> Rimnicu Vilcea (220) -> Pitesti (317) -> Bucharest (418)\n",
      "Cost:  418\n"
     ]
    }
   ],
   "source": [
    "res = ucs(romania_map, 'Arad', 'Bucharest')\n",
    "report_path(res)"
   ]
  },
  {
   "cell_type": "code",
   "execution_count": null,
   "id": "62321ca5",
   "metadata": {},
   "outputs": [],
   "source": []
  },
  {
   "cell_type": "markdown",
   "id": "c8114e78",
   "metadata": {
    "deletable": false,
    "editable": false
   },
   "source": [
    "### 4. GBFS Implementation\n",
    "\n",
    "Provide your implementation of the GBFS Search below."
   ]
  },
  {
   "cell_type": "code",
   "execution_count": 24,
   "id": "27db6720",
   "metadata": {},
   "outputs": [],
   "source": [
    "def gbfs(graph, start_node, goal_node):\n",
    "  return searchPriority(graph, start_node, goal_node, 'gbfs')"
   ]
  },
  {
   "cell_type": "code",
   "execution_count": 25,
   "id": "6b1ec361",
   "metadata": {},
   "outputs": [
    {
     "name": "stdout",
     "output_type": "stream",
     "text": [
      "Path: Arad (0) -> Sibiu (140) -> Fagaras (239) -> Bucharest (450)\n",
      "Cost:  450\n"
     ]
    }
   ],
   "source": [
    "res = gbfs(romania_map, 'Arad', 'Bucharest')\n",
    "report_path(res)"
   ]
  },
  {
   "cell_type": "code",
   "execution_count": null,
   "id": "4df85129",
   "metadata": {},
   "outputs": [],
   "source": []
  },
  {
   "cell_type": "code",
   "execution_count": null,
   "id": "210a4fc0",
   "metadata": {},
   "outputs": [],
   "source": []
  },
  {
   "cell_type": "code",
   "execution_count": null,
   "id": "56c78f07",
   "metadata": {},
   "outputs": [],
   "source": []
  },
  {
   "cell_type": "markdown",
   "id": "d02b50ea",
   "metadata": {
    "deletable": false,
    "editable": false
   },
   "source": [
    "### 5. A* Implementation\n",
    "\n",
    "Provide your implementation of the A* Algorithm below."
   ]
  },
  {
   "cell_type": "code",
   "execution_count": 26,
   "id": "600235f0",
   "metadata": {},
   "outputs": [],
   "source": [
    "def a_star(graph, start_node, goal_node):\n",
    "  return searchPriority(graph, start_node, goal_node, 'a_star')"
   ]
  },
  {
   "cell_type": "code",
   "execution_count": 28,
   "id": "9741565f",
   "metadata": {},
   "outputs": [
    {
     "name": "stdout",
     "output_type": "stream",
     "text": [
      "Path: Arad (0) -> Sibiu (140) -> Rimnicu Vilcea (220) -> Pitesti (317) -> Bucharest (418)\n",
      "Cost:  418\n"
     ]
    }
   ],
   "source": [
    "res = a_star(romania_map, 'Arad', 'Bucharest')\n",
    "report_path(res)"
   ]
  },
  {
   "cell_type": "code",
   "execution_count": null,
   "id": "c96659f6",
   "metadata": {},
   "outputs": [],
   "source": []
  },
  {
   "cell_type": "code",
   "execution_count": null,
   "id": "29e80d27",
   "metadata": {},
   "outputs": [],
   "source": []
  },
  {
   "cell_type": "code",
   "execution_count": null,
   "id": "14dad1bc",
   "metadata": {},
   "outputs": [],
   "source": []
  }
 ],
 "metadata": {
  "kernelspec": {
   "display_name": "Python 3 (ipykernel)",
   "language": "python",
   "name": "python3"
  },
  "language_info": {
   "codemirror_mode": {
    "name": "ipython",
    "version": 3
   },
   "file_extension": ".py",
   "mimetype": "text/x-python",
   "name": "python",
   "nbconvert_exporter": "python",
   "pygments_lexer": "ipython3",
   "version": "3.10.5"
  }
 },
 "nbformat": 4,
 "nbformat_minor": 5
}
